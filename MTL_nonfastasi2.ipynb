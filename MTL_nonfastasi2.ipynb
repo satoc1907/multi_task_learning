{
 "cells": [
  {
   "cell_type": "code",
   "execution_count": 1,
   "metadata": {},
   "outputs": [],
   "source": [
    "from fastai import *\n",
    "from fastai.vision import *\n",
    "from fastai.layers import MSELossFlat, CrossEntropyFlat\n",
    "from torchvision import transforms\n",
    "import warnings\n",
    "from tqdm import tqdm\n",
    "warnings.filterwarnings(\"ignore\")\n",
    "\n",
    "if torch.cuda.is_available():\n",
    "    device = 'cuda'\n",
    "else:\n",
    "    device = 'cpu'"
   ]
  },
  {
   "cell_type": "code",
   "execution_count": 2,
   "metadata": {},
   "outputs": [],
   "source": [
    "files_train = get_image_files(\"data/UTK/utkface_aligned_cropped/UTKFace/\")\n",
    "files_valid = get_image_files(\"data/UTK/utkface_aligned_cropped/crop_part1/\")"
   ]
  },
  {
   "cell_type": "code",
   "execution_count": 3,
   "metadata": {},
   "outputs": [
    {
     "data": {
      "text/plain": [
       "(23708, 9779)"
      ]
     },
     "execution_count": 3,
     "metadata": {},
     "output_type": "execute_result"
    }
   ],
   "source": [
    "len(files_train), len(files_valid)"
   ]
  },
  {
   "cell_type": "code",
   "execution_count": 4,
   "metadata": {},
   "outputs": [
    {
     "name": "stdout",
     "output_type": "stream",
     "text": [
      "100_0_0_20170112213500903.jpg.chip.jpg\n"
     ]
    }
   ],
   "source": [
    "sample_name=files_train[0].name\n",
    "print(sample_name)"
   ]
  },
  {
   "cell_type": "code",
   "execution_count": 5,
   "metadata": {},
   "outputs": [
    {
     "data": {
      "text/plain": [
       "'100_0_0'"
      ]
     },
     "execution_count": 5,
     "metadata": {},
     "output_type": "execute_result"
    }
   ],
   "source": [
    "re.findall(r\"\\d{1,3}_\\d_\\d\",sample_name)[0]"
   ]
  },
  {
   "cell_type": "code",
   "execution_count": 6,
   "metadata": {},
   "outputs": [
    {
     "data": {
      "text/plain": [
       "list"
      ]
     },
     "execution_count": 6,
     "metadata": {},
     "output_type": "execute_result"
    }
   ],
   "source": [
    "type(files_train)"
   ]
  },
  {
   "cell_type": "code",
   "execution_count": 7,
   "metadata": {},
   "outputs": [],
   "source": [
    "df_train = pd.DataFrame(files_train, columns=['name'])\n",
    "df_train.name = df_train.name.apply(str)\n",
    "df_train['label'] = df_train.name.apply(lambda x : re.findall(\"\\d{1,3}_\\d_\\d\",x)[0])\n",
    "df_train['label'] = df_train.label.apply(lambda x : re.sub(\"_\", \" \", x))\n",
    "df_train['age'] = df_train.label.apply(lambda x : int(x.split(\" \")[0]))\n",
    "df_train['gender'] = df_train.label.apply(lambda x : int(x.split(\" \")[1]))\n",
    "df_train['ethnicity'] = df_train.label.apply(lambda x : int(x.split(\" \")[2]))"
   ]
  },
  {
   "cell_type": "code",
   "execution_count": 8,
   "metadata": {},
   "outputs": [],
   "source": [
    "df_valid = pd.DataFrame(files_valid,columns=[\"name\"])\n",
    "df_valid.name = df_valid.name.apply(str)\n",
    "df_valid[\"label\"] = df_valid.name.apply(lambda x: re.findall(r\"\\d{1,3}_\\d_\\d\",x)[0])\n",
    "df_valid[\"label\"] = df_valid.label.apply(lambda x: re.sub(\"_\",\" \", x))\n",
    "df_valid[\"age\"] = df_valid.label.apply(lambda x: int(x.split(\" \")[0]))\n",
    "df_valid[\"gender\"] = df_valid.label.apply(lambda x: int(x.split(\" \")[1]))\n",
    "df_valid[\"ethnicity\"] = df_valid.label.apply(lambda x: int(x.split(\" \")[2]))"
   ]
  },
  {
   "cell_type": "code",
   "execution_count": 9,
   "metadata": {},
   "outputs": [
    {
     "data": {
      "text/html": [
       "<div>\n",
       "<style scoped>\n",
       "    .dataframe tbody tr th:only-of-type {\n",
       "        vertical-align: middle;\n",
       "    }\n",
       "\n",
       "    .dataframe tbody tr th {\n",
       "        vertical-align: top;\n",
       "    }\n",
       "\n",
       "    .dataframe thead th {\n",
       "        text-align: right;\n",
       "    }\n",
       "</style>\n",
       "<table border=\"1\" class=\"dataframe\">\n",
       "  <thead>\n",
       "    <tr style=\"text-align: right;\">\n",
       "      <th></th>\n",
       "      <th>name</th>\n",
       "      <th>label</th>\n",
       "      <th>age</th>\n",
       "      <th>gender</th>\n",
       "      <th>ethnicity</th>\n",
       "    </tr>\n",
       "  </thead>\n",
       "  <tbody>\n",
       "    <tr>\n",
       "      <th>0</th>\n",
       "      <td>data\\UTK\\utkface_aligned_cropped\\UTKFace\\100_0...</td>\n",
       "      <td>100 0 0</td>\n",
       "      <td>100</td>\n",
       "      <td>0</td>\n",
       "      <td>0</td>\n",
       "    </tr>\n",
       "    <tr>\n",
       "      <th>1</th>\n",
       "      <td>data\\UTK\\utkface_aligned_cropped\\UTKFace\\100_0...</td>\n",
       "      <td>100 0 0</td>\n",
       "      <td>100</td>\n",
       "      <td>0</td>\n",
       "      <td>0</td>\n",
       "    </tr>\n",
       "    <tr>\n",
       "      <th>2</th>\n",
       "      <td>data\\UTK\\utkface_aligned_cropped\\UTKFace\\100_1...</td>\n",
       "      <td>100 1 0</td>\n",
       "      <td>100</td>\n",
       "      <td>1</td>\n",
       "      <td>0</td>\n",
       "    </tr>\n",
       "    <tr>\n",
       "      <th>3</th>\n",
       "      <td>data\\UTK\\utkface_aligned_cropped\\UTKFace\\100_1...</td>\n",
       "      <td>100 1 0</td>\n",
       "      <td>100</td>\n",
       "      <td>1</td>\n",
       "      <td>0</td>\n",
       "    </tr>\n",
       "    <tr>\n",
       "      <th>4</th>\n",
       "      <td>data\\UTK\\utkface_aligned_cropped\\UTKFace\\100_1...</td>\n",
       "      <td>100 1 0</td>\n",
       "      <td>100</td>\n",
       "      <td>1</td>\n",
       "      <td>0</td>\n",
       "    </tr>\n",
       "  </tbody>\n",
       "</table>\n",
       "</div>"
      ],
      "text/plain": [
       "                                                name    label  age  gender  \\\n",
       "0  data\\UTK\\utkface_aligned_cropped\\UTKFace\\100_0...  100 0 0  100       0   \n",
       "1  data\\UTK\\utkface_aligned_cropped\\UTKFace\\100_0...  100 0 0  100       0   \n",
       "2  data\\UTK\\utkface_aligned_cropped\\UTKFace\\100_1...  100 1 0  100       1   \n",
       "3  data\\UTK\\utkface_aligned_cropped\\UTKFace\\100_1...  100 1 0  100       1   \n",
       "4  data\\UTK\\utkface_aligned_cropped\\UTKFace\\100_1...  100 1 0  100       1   \n",
       "\n",
       "   ethnicity  \n",
       "0          0  \n",
       "1          0  \n",
       "2          0  \n",
       "3          0  \n",
       "4          0  "
      ]
     },
     "execution_count": 9,
     "metadata": {},
     "output_type": "execute_result"
    }
   ],
   "source": [
    "df_train.head()"
   ]
  },
  {
   "cell_type": "markdown",
   "metadata": {},
   "source": [
    "# 2. Creating the Datasets, Dataloaders and Databunch"
   ]
  },
  {
   "cell_type": "code",
   "execution_count": 10,
   "metadata": {},
   "outputs": [],
   "source": [
    "class MultiTaskDataset(Dataset):\n",
    "    def __init__(self,df, tfms, size=64):\n",
    "        self.paths = list(df.name)\n",
    "        self.labels = list(df.label)\n",
    "        self.tfms = tfms\n",
    "        self.size = size\n",
    "        self.norm = transforms.Normalize([0.485, 0.456, 0.406], [0.229, 0.224, 0.225]) #imagenet stats\n",
    "\n",
    "    def __len__(self): return len(self.paths)\n",
    "\n",
    "    def __getitem__(self,idx):\n",
    "        #dealing with the image\n",
    "        img = PIL.Image.open(self.paths[idx]).convert('RGB')\n",
    "        img = Image(pil2tensor(img, dtype=np.float32).div_(255))\n",
    "        img = img.apply_tfms(self.tfms, size = self.size)\n",
    "        img = self.norm(img.data)\n",
    "\n",
    "        #dealing with the labels\n",
    "        labels = self.labels[idx].split(\" \")\n",
    "        age = torch.tensor(float(labels[0]), dtype=torch.float32)\n",
    "        gender = torch.tensor(int(labels[1]), dtype=torch.int64)\n",
    "        ethnicity = torch.tensor(int(labels[2]), dtype=torch.int64)\n",
    "        \n",
    "        return img.data, (age.log_()/4.75, gender, ethnicity)\n",
    "\n",
    "    def show(self,idx):\n",
    "        x,y = self.__getitem__(idx)\n",
    "        age,gender,ethnicity = y\n",
    "        stds = np.array([0.229, 0.224, 0.225])\n",
    "        means = np.array([0.485, 0.456, 0.406])\n",
    "        img = ((x.numpy().transpose((1,2,0))*stds + means)*255).astype(np.uint8)\n",
    "        plt.imshow(img)\n",
    "        plt.title(\"{} {} {}\".format(int(age.mul_(4.75).exp_().item()), gender.item(), ethnicity.item()))"
   ]
  },
  {
   "cell_type": "code",
   "execution_count": 11,
   "metadata": {},
   "outputs": [],
   "source": [
    "tfms = get_transforms()\n",
    "train_ds = MultiTaskDataset(df_train, tfms[0], size=64)\n",
    "valid_ds = MultiTaskDataset(df_valid, tfms[1], size=64)\n",
    "train_dl = DataLoader(train_ds, batch_size=512, shuffle=True, num_workers=0)\n",
    "valid_dl = DataLoader(valid_ds, batch_size=512, shuffle=True, num_workers=0)\n",
    "data = DataBunch(train_dl, valid_dl)"
   ]
  },
  {
   "cell_type": "markdown",
   "metadata": {},
   "source": [
    "train_dl = DataLoader(train_ds, batch_size=16, shuffle=True, num_workers=0)\n",
    "valid_dl = DataLoader(valid_ds, batch_size=16, shuffle=True, num_workers=0)"
   ]
  },
  {
   "cell_type": "code",
   "execution_count": 12,
   "metadata": {},
   "outputs": [],
   "source": [
    "class MultiTaskMokdel(nn.Module):\n",
    "    def __init__(self, arch, ps=0.5):\n",
    "        super(MultiTaskMokdel,self).__init__()\n",
    "        self.encoder = create_body(arch)\n",
    "        self.fc1 = create_head(1024, 1, ps=ps)\n",
    "        self.fc2 = create_head(1024, 2, ps=ps)\n",
    "        self.fc3 = create_head(1024, 5, ps=ps)\n",
    "        \n",
    "    def forward(self,x):\n",
    "        \n",
    "        \n",
    "        x=self.encoder(x)\n",
    "        age = torch.sigmoid(self.fc1(x))\n",
    "        gender = self.fc2(x)\n",
    "        ethnicity = self.fc3(x)\n",
    "        \n",
    "        return [age, gender, ethnicity]"
   ]
  },
  {
   "cell_type": "code",
   "execution_count": 13,
   "metadata": {},
   "outputs": [],
   "source": [
    "class MultiTaskWrapper(nn.Module):\n",
    "    def __init__(self, task_num):\n",
    "        super(MultiTaskWrapper, self).__init__()\n",
    "        self.task_num = task_num\n",
    "        self.log_vars = nn.Parameter(torch.zeros((task_num)))\n",
    "        \n",
    "    def forward(self, preds, y):\n",
    "        mse, crossEntropy = MSELossFlat(), CrossEntropyFlat()\n",
    "        age = y[0]\n",
    "        gender = y[1]\n",
    "        ethnicity = y[2]\n",
    "        \n",
    "        sages =(age*4.75).exp_()\n",
    "        idx1 = (sages<20) |((sages >40) & (sages <= 60))\n",
    "        idx2 = sages >60\n",
    "        loss0 = mse(preds[0],age) + 2*mse(preds[0][idx1],age[idx1]) + 3*mse(preds[0][idx2],age[idx2])\n",
    "        #loss0 = mse(preds[0], age) + 2*mse(preds[0][idx1],age[idx1]) + 3*mse(preds[0][idx2],age[idx2])\n",
    "        #trying to account for the imbalance\n",
    "        \n",
    "        loss1 = crossEntropy(preds[1], gender)\n",
    "        loss2 = crossEntropy(preds[2], ethnicity)\n",
    "        \n",
    "        precision0 = torch.exp(-self.log_vars[0])\n",
    "        loss0 = precision0 * loss0 + self.log_vars[0]\n",
    "        \n",
    "        precision1 = torch.exp(-self.log_vars[1])\n",
    "        loss1 = precision1 * loss1 + self.log_vars[1]\n",
    "        \n",
    "        precision2 = torch.exp(-self.log_vars[2])\n",
    "        loss2 = precision2 * loss2 + self.log_vars[2]\n",
    "        \n",
    "        return loss0 + loss1 + loss2"
   ]
  },
  {
   "cell_type": "code",
   "execution_count": 14,
   "metadata": {},
   "outputs": [],
   "source": [
    "class MultiTaskWrapper_original(nn.Module):\n",
    "    def __init__(self, task_num):\n",
    "        super(MultiTaskWrapper_original, self).__init__()\n",
    "        self.task_num = task_num\n",
    "        self.log_vars = nn.Parameter(torch.zeros((task_num)))\n",
    "        \n",
    "    def forward(self, preds, age, gender, ethnicity):\n",
    "        mse, crossEntropy = MSELossFlat(), CrossEntropyFlat()\n",
    "        \n",
    "        sages =(age*4.75).exp_()\n",
    "        idx1 = (sages<20) |((sages >40) & (sages <= 60))\n",
    "        idx2 = sages >60\n",
    "        loss0 = mse(preds[0],age) + 2*mse(preds[0][idx1],age[idx1]) + 3*mse(preds[0][idx2],age[idx2])\n",
    "        #loss0 = mse(preds[0], age) + 2*mse(preds[0][idx1],age[idx1]) + 3*mse(preds[0][idx2],age[idx2])\n",
    "        #trying to account for the imbalance\n",
    "        \n",
    "        loss1 = crossEntropy(preds[1], gender)\n",
    "        loss2 = crossEntropy(preds[2], ethnicity)\n",
    "        \n",
    "        precision0 = torch.exp(-self.log_vars[0])\n",
    "        loss0 = precision0 * loss0 + self.log_vars[0]\n",
    "        \n",
    "        precision1 = torch.exp(-self.log_vars[1])\n",
    "        loss1 = 2*precision1 * loss1 + self.log_vars[1]\n",
    "        \n",
    "        precision2 = torch.exp(-self.log_vars[2])\n",
    "        loss2 = 2*precision2 * loss2 + self.log_vars[2]\n",
    "        \n",
    "        return loss0 + loss1 + loss2"
   ]
  },
  {
   "cell_type": "code",
   "execution_count": 15,
   "metadata": {},
   "outputs": [],
   "source": [
    "model = MultiTaskMokdel(models.resnet34, ps = 0.25)\n",
    "optimizer = optim.Adam(model.parameters(), lr=1e-7, weight_decay=1e-2)\n",
    "criterion = MultiTaskWrapper(3).to(device)\n",
    "optimizer_cr = optim.Adam(criterion.parameters(), lr=1e-7, weight_decay=1e-2)\n",
    "model = model.to(device)"
   ]
  },
  {
   "cell_type": "code",
   "execution_count": 16,
   "metadata": {},
   "outputs": [
    {
     "name": "stdout",
     "output_type": "stream",
     "text": [
      "Parameter containing:\n",
      "tensor([0., 0., 0.], device='cuda:0', requires_grad=True)\n"
     ]
    }
   ],
   "source": [
    "for param in criterion.parameters():\n",
    "    print(param)"
   ]
  },
  {
   "cell_type": "code",
   "execution_count": 17,
   "metadata": {},
   "outputs": [
    {
     "name": "stdout",
     "output_type": "stream",
     "text": [
      "None\n"
     ]
    }
   ],
   "source": [
    "for param in criterion.parameters():\n",
    "    print(param.grad)"
   ]
  },
  {
   "cell_type": "code",
   "execution_count": 18,
   "metadata": {},
   "outputs": [],
   "source": [
    "for param in model.parameters():\n",
    "    param.requires_grad = False"
   ]
  },
  {
   "cell_type": "code",
   "execution_count": 19,
   "metadata": {},
   "outputs": [],
   "source": [
    "mse=nn.MSELoss()\n",
    "\n",
    "def train(epoch):\n",
    "    train_loss = 0\n",
    "    total = 0\n",
    "    age_mse = 0\n",
    "    c_gender = 0\n",
    "    c_ethics = 0\n",
    "    for samples in tqdm(train_dl):\n",
    "        images = samples[0].to(device)\n",
    "        label = []\n",
    "        t_label = samples[1]\n",
    "        labels = [_label.cuda() for _label in t_label] \n",
    "        #labels = labels.to(device)\n",
    "        \n",
    "        #backwards\n",
    "        optimizer.zero_grad()\n",
    "        optimizer_cr.zero_grad()\n",
    "        outputs = model(images)\n",
    "        loss = criterion(outputs, labels)\n",
    "        loss.backward()\n",
    "        optimizer.step()\n",
    "        optimizer_cr.step()\n",
    "        train_loss += loss.item()\n",
    "        \n",
    "        #metrics\n",
    "        p_age = outputs[0]\n",
    "        p_gender = outputs[1]\n",
    "        p_ethics =  outputs[2]\n",
    "        total += labels[0].size(0)\n",
    "        \n",
    "        #age \n",
    "        age_mse += mse(p_age, labels[0])\n",
    "        \n",
    "        #gender \n",
    "        c_gender += (torch.argmax(p_gender,dim=1) == labels[1]).sum().float()\n",
    "        \n",
    "        #ethics\n",
    "        c_ethics += (torch.argmax(p_ethics,dim=1) == labels[2]).sum().float()\n",
    "        \n",
    "        \n",
    "    train_loss =  train_loss * train_dl.batch_size/len(train_dl.dataset)\n",
    "    m_age_mse = age_mse * train_dl.batch_size/len(train_dl.dataset)\n",
    "    #m_age_mse = age_mse/total\n",
    "    acc_gender = 100.* c_gender/total\n",
    "    acc_ethics = 100.* c_ethics/total\n",
    "    print('Epoch: {} Train loss: {: .4f}'.format(epoch, train_loss))\n",
    "    print('Age_mse: {: .4f} Acc_gender {: .4f} Acc_ethics {: .4f}'.format(m_age_mse,acc_gender, acc_ethics))\n",
    "    return train_loss, m_age_mse,acc_gender, acc_ethics"
   ]
  },
  {
   "cell_type": "code",
   "execution_count": 20,
   "metadata": {},
   "outputs": [
    {
     "name": "stderr",
     "output_type": "stream",
     "text": [
      "100%|██████████████████████████████████████████████████████████████████████████████████| 47/47 [02:38<00:00,  3.38s/it]"
     ]
    },
    {
     "name": "stdout",
     "output_type": "stream",
     "text": [
      "Epoch: 1 Train loss:  3.5705\n",
      "Age_mse:  0.1009 Acc_gender  51.0461 Acc_ethics  20.5627\n"
     ]
    },
    {
     "name": "stderr",
     "output_type": "stream",
     "text": [
      "\n"
     ]
    }
   ],
   "source": [
    "epochs = 1\n",
    "import datetime\n",
    "dt_now = datetime.datetime.now()\n",
    "exp_time = dt_now.strftime('%Y%m%d_%H:%M:%S')\n",
    "nb_name='TCGA_Res34_tr_e29'\n",
    "#writer = SummaryWriter(\"runs/\" +  \".\" + nb_name + exp_time)\n",
    "\n",
    "plot_number = 1\n",
    "\n",
    "\n",
    "for epoch in range(1,epochs + 1):\n",
    "    train_loss, m_age_mse,acc_gender, acc_ethics = train(epoch)"
   ]
  },
  {
   "cell_type": "code",
   "execution_count": 21,
   "metadata": {},
   "outputs": [
    {
     "name": "stdout",
     "output_type": "stream",
     "text": [
      "Parameter containing:\n",
      "tensor([-5.3831e-06, -5.5401e-06,  5.5373e-06], device='cuda:0',\n",
      "       requires_grad=True)\n"
     ]
    }
   ],
   "source": [
    "for param in criterion.parameters():\n",
    "    print(param)"
   ]
  },
  {
   "cell_type": "code",
   "execution_count": 22,
   "metadata": {},
   "outputs": [
    {
     "name": "stdout",
     "output_type": "stream",
     "text": [
      "tensor([  1.5438,  10.6727, -36.5462], device='cuda:0')\n"
     ]
    }
   ],
   "source": [
    "for param in criterion.parameters():\n",
    "    print(param.grad)"
   ]
  },
  {
   "cell_type": "code",
   "execution_count": null,
   "metadata": {},
   "outputs": [],
   "source": [
    "epochs =29\n",
    "import datetime\n",
    "dt_now = datetime.datetime.now()\n",
    "exp_time = dt_now.strftime('%Y%m%d_%H:%M:%S')\n",
    "nb_name='TCGA_Res34_tr_e29'\n",
    "writer = SummaryWriter(\"runs/\" +  \".\" + nb_name + exp_time)\n",
    "\n",
    "plot_number = 1\n",
    "\n",
    "\n",
    "for epoch in range(1,epochs + 1):\n",
    "    train_loss,train_acc,train_err_rate = train(epoch)"
   ]
  },
  {
   "cell_type": "code",
   "execution_count": 53,
   "metadata": {},
   "outputs": [],
   "source": [
    "a = next(iter(train_dl))\n",
    "images = a[0]\n",
    "labels = a[1]"
   ]
  },
  {
   "cell_type": "code",
   "execution_count": 55,
   "metadata": {},
   "outputs": [],
   "source": [
    "images = images.to(device)"
   ]
  },
  {
   "cell_type": "code",
   "execution_count": 59,
   "metadata": {},
   "outputs": [],
   "source": [
    "label = []\n",
    "labels_d = [_label.cuda() for _label in labels]"
   ]
  },
  {
   "cell_type": "code",
   "execution_count": 60,
   "metadata": {},
   "outputs": [
    {
     "data": {
      "text/plain": [
       "[tensor([0.7160, 0.9353, 0.1459, 0.8654, 0.6507, 0.7658, 0.7089, 0.7485, 0.7485,\n",
       "         0.7424, 0.7424, 0.8398, 0.7766, 0.4626, 0.1459, 0.7015, 0.5701, 0.8359,\n",
       "         0.7089, 0.6085, 0.7296, 0.9497, 0.1459, 0.7160, 0.7015, 0.8620, 0.6859,\n",
       "         0.8436, 0.5556, 0.1459, 0.4378, 0.6777, 0.6859, 0.7602, 0.5400, 0.6859,\n",
       "         0.7160, 0.7015, 0.6859, 0.4378, 0.1459, 0.7229, 0.7296, 0.7713, 0.6410,\n",
       "         0.7160, 0.0000, 0.7015, 0.7296, 0.6307, 0.5965, 0.5965, 0.7229, 0.8474,\n",
       "         0.4378, 0.7658, 0.7089, 0.7485, 0.6777, 0.1459, 0.0000, 0.6939, 0.0000,\n",
       "         0.6859, 0.6939, 0.7544, 0.7160, 0.1459, 0.7485, 0.8359, 0.8756, 0.6859,\n",
       "         0.7766, 0.9695, 0.6859, 0.7818, 0.8914, 0.6601, 0.6777, 0.6939, 0.8106,\n",
       "         0.7089, 0.8756, 0.6859, 0.6777, 0.6859, 0.7485, 0.8014, 0.0000, 0.5965,\n",
       "         0.6859, 0.2919, 0.8788, 0.6859, 0.8398, 0.7485, 0.8584, 0.6777, 0.0000,\n",
       "         0.4378, 0.0000, 0.7296, 0.7361, 0.7658, 0.7485, 0.7160, 0.6777, 0.6691,\n",
       "         0.6777, 0.8398, 0.7424, 0.9117, 0.8014, 0.8318, 0.6859, 0.2313, 0.7485,\n",
       "         0.6859, 0.7967, 0.3772, 0.8944, 0.6859, 0.7869, 0.9328, 0.8014, 0.8398,\n",
       "         0.9004, 0.6691, 0.6859, 0.6859, 0.7485, 0.2919, 0.8193, 0.6777, 0.0000,\n",
       "         0.6777, 0.7015, 0.0000, 0.8788, 0.0000, 0.8236, 0.4097, 0.7015, 0.6777,\n",
       "         0.7544, 0.6859, 0.9353, 0.6691, 0.6859, 0.6859, 0.8548, 0.9225, 0.6691,\n",
       "         0.1459, 0.6777, 0.6859, 0.8060, 0.8359, 0.0000, 0.6859, 0.7766, 0.6859,\n",
       "         0.4378, 0.8548, 0.7544, 0.6859, 0.8278, 0.6507, 0.6777, 0.6777, 0.0000,\n",
       "         0.7766, 0.9353, 0.6691, 0.8359, 0.4097, 0.6691, 0.8359, 0.7015, 0.5965,\n",
       "         0.7713, 0.7485, 0.8398, 0.7361, 0.6859, 0.6859, 0.6777, 0.8236, 0.6777,\n",
       "         0.7818, 0.9033, 0.7485, 0.6691, 0.4097, 0.7160, 0.7160, 0.7089, 0.1459,\n",
       "         0.5701, 0.7869, 0.0000, 0.6777, 0.8436, 0.8883, 0.6859, 0.8788, 0.7602,\n",
       "         0.6691, 0.0000, 0.5837, 0.6307, 0.7015, 0.6859, 0.6859, 0.7485, 0.5231,\n",
       "         0.6507, 0.7229, 0.7089, 0.0000, 0.9004, 0.8236, 0.0000, 0.8318, 0.8722,\n",
       "         0.5048, 0.8398, 0.7296, 0.7544, 0.7485, 0.7485, 0.9199, 0.7229, 0.2919,\n",
       "         0.4378, 0.2313, 0.7485, 0.8193, 0.8654, 0.6410, 0.6859, 0.6777, 0.4848,\n",
       "         0.6859, 0.6601, 0.8788, 0.5400, 0.9473, 0.6777, 0.0000, 0.8236, 0.7015,\n",
       "         0.4378, 0.7544, 0.6777, 0.6859, 0.2919, 0.7818, 0.6777, 0.7089, 0.3772,\n",
       "         0.6939, 0.7544, 0.6777, 0.1459, 0.9089, 0.5701, 0.7089, 0.8060, 0.8359,\n",
       "         0.7015, 0.7229, 0.8278, 0.6939, 0.8620, 0.8474, 0.6410, 0.7015, 0.9426,\n",
       "         0.6859, 0.9353, 0.6859, 0.7818, 0.8236, 0.7089, 0.5556, 0.8150, 0.7967,\n",
       "         0.5400, 0.0000, 0.5231, 0.6939, 0.8236, 0.6859, 0.6859, 0.9061, 0.8014,\n",
       "         0.7658, 0.0000, 0.5556, 0.6859, 0.0000, 0.6410, 0.6410, 0.8278, 0.6859,\n",
       "         0.5965, 0.9004, 0.7424, 0.7766, 0.8436, 0.6777, 0.7766, 0.5701, 0.7544,\n",
       "         0.6859, 0.6601, 0.8150, 0.7296, 0.6859, 0.6939, 0.6085, 0.8318, 0.2919,\n",
       "         0.8788, 0.6691, 0.4626, 0.8236, 0.2313, 0.6859, 0.7160, 0.6859, 0.6859,\n",
       "         0.6691, 0.8318, 0.6859, 0.8974, 0.5048, 0.8014, 0.6601, 0.7424, 0.7296,\n",
       "         0.7015, 0.1459, 0.8474, 0.6085, 0.7658, 0.2313, 0.8014, 0.6601, 0.7015,\n",
       "         0.0000, 0.6085, 0.7918, 0.7015, 0.8944, 0.0000, 0.7424, 0.5837, 0.8236,\n",
       "         0.8620, 0.3388, 0.8014, 0.7229, 0.0000, 0.8014, 0.7015, 0.6691, 0.9353,\n",
       "         0.6507, 0.9061, 0.6939, 0.6859, 0.6859, 0.6777, 0.6859, 0.8236, 0.8474,\n",
       "         0.8014, 0.3772, 0.6859, 0.8474, 0.6507, 0.6691, 0.9473, 0.6859, 0.7713,\n",
       "         0.6777, 0.8689, 0.8236, 0.7361, 0.8150, 0.6939, 0.7089, 0.7229, 0.5701,\n",
       "         0.7015, 0.6410, 0.8398, 0.6859, 0.9117, 0.7296, 0.8512, 0.4097, 0.8436,\n",
       "         0.5965, 0.7544, 0.8788, 0.7296, 0.8014, 0.6859, 0.7015, 0.6859, 0.7544,\n",
       "         0.6859, 0.5837, 0.8548, 0.7544, 0.7296, 0.8236, 0.0000, 0.6691, 0.7015,\n",
       "         0.5556, 0.8474, 0.6777, 0.7089, 0.6085, 0.6859, 0.8014, 0.6939, 0.6601,\n",
       "         0.5837, 0.8436, 0.0000, 0.0000, 0.7296, 0.7015, 0.3772, 0.6859, 0.1459,\n",
       "         0.7015, 0.6777, 0.6859, 0.6859, 0.7485, 0.6777, 0.7229, 0.8788, 0.8193,\n",
       "         0.8236, 0.9353, 0.6601, 0.7160, 0.5837, 0.6859, 0.6859, 0.8788, 0.6939,\n",
       "         0.4848, 0.9033, 0.6777, 0.7602, 0.6307, 0.6859, 0.6601, 0.1459, 0.5837,\n",
       "         0.8398, 0.7160, 0.7015, 0.8193, 0.9225, 0.9004, 0.3772, 0.7602, 0.6507,\n",
       "         0.9353, 0.6859, 0.7485, 0.8236, 0.7229, 0.6777, 0.6859, 0.8548, 0.2919,\n",
       "         0.8193, 0.7160, 0.6691, 0.6939, 0.6691, 0.6939, 0.0000, 0.7918, 0.8620,\n",
       "         0.9004, 0.6085, 0.8060, 0.7766, 0.6859, 0.7658, 0.3388, 0.2313, 0.7361,\n",
       "         0.8436, 0.9473, 0.7296, 0.7089, 0.8436, 0.7296, 0.6859, 0.7544],\n",
       "        device='cuda:0'),\n",
       " tensor([0, 1, 1, 0, 0, 0, 0, 1, 0, 0, 0, 0, 0, 0, 0, 1, 1, 0, 1, 1, 1, 1, 0, 0,\n",
       "         0, 0, 0, 0, 0, 1, 0, 0, 1, 0, 0, 0, 1, 1, 1, 1, 0, 1, 0, 0, 1, 1, 1, 1,\n",
       "         1, 1, 0, 1, 1, 1, 1, 1, 1, 1, 0, 1, 1, 0, 0, 0, 0, 0, 1, 0, 0, 0, 0, 0,\n",
       "         1, 1, 0, 1, 1, 1, 1, 1, 0, 1, 0, 1, 1, 1, 0, 0, 1, 1, 0, 0, 0, 1, 0, 0,\n",
       "         0, 1, 1, 1, 0, 0, 1, 0, 1, 1, 0, 1, 1, 0, 1, 1, 0, 0, 1, 0, 1, 1, 0, 0,\n",
       "         0, 0, 0, 1, 0, 0, 0, 1, 1, 1, 0, 1, 0, 1, 0, 0, 0, 0, 0, 0, 0, 1, 1, 0,\n",
       "         0, 0, 1, 0, 0, 1, 0, 0, 1, 1, 1, 0, 0, 1, 1, 1, 0, 1, 1, 0, 1, 1, 1, 1,\n",
       "         1, 1, 1, 1, 1, 1, 1, 1, 0, 1, 1, 0, 1, 0, 1, 0, 1, 1, 0, 1, 0, 0, 1, 0,\n",
       "         1, 0, 0, 1, 1, 0, 1, 1, 1, 1, 0, 1, 0, 1, 0, 0, 0, 0, 1, 0, 0, 0, 0, 1,\n",
       "         1, 1, 0, 1, 0, 0, 1, 1, 0, 0, 1, 1, 0, 1, 0, 1, 0, 0, 1, 1, 0, 0, 1, 1,\n",
       "         1, 1, 1, 1, 0, 0, 0, 1, 0, 1, 1, 1, 0, 1, 1, 0, 0, 1, 1, 1, 0, 0, 1, 1,\n",
       "         1, 0, 0, 0, 0, 1, 0, 1, 1, 1, 0, 0, 0, 1, 1, 1, 1, 1, 1, 0, 0, 1, 0, 0,\n",
       "         0, 0, 0, 0, 0, 0, 0, 1, 0, 1, 1, 1, 1, 1, 0, 0, 0, 1, 0, 0, 0, 1, 1, 1,\n",
       "         0, 1, 0, 1, 1, 0, 1, 1, 0, 1, 0, 0, 0, 0, 1, 0, 0, 1, 0, 0, 1, 1, 1, 0,\n",
       "         1, 1, 1, 1, 1, 0, 0, 1, 0, 0, 1, 1, 1, 0, 0, 0, 1, 1, 1, 0, 0, 1, 0, 1,\n",
       "         0, 1, 1, 1, 1, 1, 1, 1, 0, 1, 1, 0, 0, 1, 0, 0, 0, 0, 0, 1, 0, 0, 0, 1,\n",
       "         0, 0, 1, 1, 0, 0, 1, 1, 1, 1, 1, 1, 0, 0, 0, 0, 1, 1, 0, 1, 0, 1, 1, 0,\n",
       "         1, 0, 1, 0, 1, 1, 0, 1, 0, 0, 0, 0, 0, 0, 0, 1, 0, 1, 1, 1, 0, 1, 1, 1,\n",
       "         0, 0, 0, 1, 1, 0, 1, 0, 0, 1, 1, 1, 1, 0, 0, 1, 0, 1, 0, 1, 1, 0, 0, 0,\n",
       "         0, 1, 1, 1, 0, 0, 0, 1, 0, 1, 1, 0, 0, 0, 1, 0, 0, 0, 0, 1, 1, 1, 0, 1,\n",
       "         0, 0, 1, 0, 0, 1, 0, 0, 0, 0, 1, 1, 0, 1, 0, 1, 1, 0, 1, 1, 1, 1, 0, 1,\n",
       "         0, 0, 0, 1, 0, 0, 1, 1], device='cuda:0'),\n",
       " tensor([0, 0, 1, 0, 1, 3, 3, 1, 3, 0, 1, 4, 0, 0, 4, 2, 4, 3, 2, 0, 0, 2, 2, 4,\n",
       "         0, 0, 1, 3, 3, 2, 0, 0, 3, 3, 0, 0, 0, 2, 1, 0, 0, 1, 0, 0, 4, 0, 3, 2,\n",
       "         0, 1, 0, 4, 2, 0, 0, 3, 2, 1, 0, 3, 2, 3, 0, 2, 1, 0, 2, 2, 0, 3, 0, 0,\n",
       "         0, 2, 3, 0, 0, 0, 2, 0, 3, 2, 0, 3, 1, 3, 1, 1, 0, 0, 2, 2, 2, 2, 3, 0,\n",
       "         3, 3, 2, 0, 2, 0, 0, 3, 0, 3, 1, 0, 1, 0, 0, 0, 0, 2, 1, 3, 0, 1, 4, 0,\n",
       "         0, 0, 2, 0, 3, 1, 0, 1, 3, 1, 0, 0, 3, 3, 3, 3, 0, 2, 3, 0, 0, 0, 3, 3,\n",
       "         3, 1, 0, 2, 1, 4, 0, 0, 3, 4, 1, 3, 0, 0, 4, 3, 0, 1, 0, 0, 1, 1, 0, 2,\n",
       "         0, 0, 2, 2, 0, 0, 0, 0, 1, 0, 1, 0, 4, 4, 0, 0, 1, 0, 3, 0, 3, 0, 3, 0,\n",
       "         2, 0, 0, 0, 0, 2, 1, 0, 0, 1, 0, 0, 4, 0, 0, 2, 2, 0, 0, 0, 1, 0, 3, 0,\n",
       "         1, 1, 2, 2, 0, 2, 3, 0, 4, 0, 0, 0, 2, 0, 3, 0, 0, 0, 0, 0, 3, 0, 3, 1,\n",
       "         4, 2, 0, 0, 1, 0, 0, 0, 1, 4, 4, 1, 0, 3, 3, 3, 3, 0, 0, 0, 2, 0, 1, 2,\n",
       "         3, 0, 2, 1, 0, 1, 1, 1, 0, 0, 0, 0, 2, 3, 2, 0, 0, 2, 0, 1, 3, 0, 0, 3,\n",
       "         4, 2, 0, 1, 3, 0, 3, 0, 0, 3, 4, 0, 4, 3, 4, 3, 0, 2, 2, 0, 3, 0, 0, 0,\n",
       "         1, 0, 1, 0, 3, 4, 2, 1, 2, 4, 0, 4, 1, 2, 0, 0, 0, 2, 4, 1, 4, 0, 0, 3,\n",
       "         0, 0, 0, 3, 0, 0, 1, 2, 0, 0, 4, 1, 0, 1, 1, 2, 1, 0, 1, 0, 2, 1, 0, 0,\n",
       "         0, 0, 0, 0, 0, 3, 2, 2, 0, 0, 2, 0, 2, 2, 3, 2, 3, 0, 4, 3, 3, 2, 3, 2,\n",
       "         0, 1, 1, 0, 0, 0, 1, 0, 0, 0, 1, 1, 1, 4, 0, 2, 0, 1, 0, 2, 0, 4, 0, 3,\n",
       "         2, 3, 2, 3, 0, 1, 1, 0, 0, 3, 3, 3, 2, 4, 1, 0, 0, 4, 0, 0, 1, 0, 3, 4,\n",
       "         0, 0, 4, 2, 0, 0, 2, 3, 3, 1, 4, 1, 3, 1, 0, 3, 0, 0, 0, 0, 0, 4, 0, 0,\n",
       "         3, 0, 1, 1, 0, 0, 2, 4, 4, 0, 4, 0, 3, 3, 2, 2, 0, 3, 0, 0, 4, 0, 1, 0,\n",
       "         3, 1, 3, 2, 3, 4, 0, 0, 1, 1, 3, 0, 0, 0, 0, 0, 0, 0, 1, 3, 4, 0, 2, 4,\n",
       "         3, 0, 0, 1, 0, 1, 0, 1], device='cuda:0')]"
      ]
     },
     "execution_count": 60,
     "metadata": {},
     "output_type": "execute_result"
    }
   ],
   "source": [
    "labels_d"
   ]
  },
  {
   "cell_type": "code",
   "execution_count": null,
   "metadata": {},
   "outputs": [],
   "source": []
  },
  {
   "cell_type": "code",
   "execution_count": null,
   "metadata": {},
   "outputs": [],
   "source": []
  },
  {
   "cell_type": "code",
   "execution_count": null,
   "metadata": {},
   "outputs": [],
   "source": []
  },
  {
   "cell_type": "markdown",
   "metadata": {},
   "source": [
    "# 4. Defining Metrics, Learner and Training"
   ]
  },
  {
   "cell_type": "code",
   "execution_count": 58,
   "metadata": {},
   "outputs": [],
   "source": [
    "def rmse_age(preds, age, gender, ethnicity) : return root_mean_squared_error(preds[0], age)\n",
    "def acc_gender(preds, age, gender, ethnicity):return accuracy(preds[1], gender)\n",
    "def acc_ethnicity(preds, age, gender, ethnicity): return accuracy(preds[2], ethnicity)\n",
    "metrics = [rmse_age, acc_gender, acc_ethnicity]"
   ]
  },
  {
   "cell_type": "code",
   "execution_count": 59,
   "metadata": {},
   "outputs": [],
   "source": [
    "model = MultiTaskMokdel(models.resnet34, ps = 0.25)\n",
    "loss_func = MultiTaskWrapper_original(3).to(data.device) #just making sure the loss is on the gpu\n",
    "learn =  Learner(data, model, loss_func=loss_func, callback_fns=ShowGraph, metrics=metrics)\n",
    "learn.split([learn.model.encoder[:6],\n",
    "             learn.model.encoder[6:],\n",
    "              nn.ModuleList([learn.model.fc1, learn.model.fc2, learn.model.fc3])\n",
    "    \n",
    "])\n",
    "\n",
    "#first I'll train only the last layer group(the heads)\n",
    "learn.freeze()"
   ]
  },
  {
   "cell_type": "markdown",
   "metadata": {},
   "source": [
    "def rmse_age(preds, age, gender, ethnicity): return root_mean_squared_error(preds[0],age)\n",
    "def acc_gender(preds, age, gender, ethnicity): return accuracy(preds[1], gender)\n",
    "def acc_ethnicity(preds, age, gender, ethnicity): return accuracy(preds[2], ethnicity)\n",
    "metrics = [rmse_age, acc_gender, acc_ethnicity]"
   ]
  },
  {
   "cell_type": "code",
   "execution_count": 60,
   "metadata": {},
   "outputs": [
    {
     "data": {
      "text/plain": [
       "'NVIDIA GeForce RTX 3090'"
      ]
     },
     "execution_count": 60,
     "metadata": {},
     "output_type": "execute_result"
    }
   ],
   "source": [
    "torch.cuda.get_device_name()"
   ]
  },
  {
   "cell_type": "code",
   "execution_count": 61,
   "metadata": {},
   "outputs": [],
   "source": [
    "#spliting the model so that I can use discriminative learning rates\n",
    "learn.split([learn.model.encoder[:6],\n",
    "             learn.model.encoder[6:],\n",
    "             nn.ModuleList([learn.model.fc1, learn.model.fc2, learn.model.fc3])]);"
   ]
  },
  {
   "cell_type": "code",
   "execution_count": 62,
   "metadata": {},
   "outputs": [
    {
     "data": {
      "text/plain": [
       "_CudaDeviceProperties(name='NVIDIA GeForce RTX 3090', major=8, minor=6, total_memory=24576MB, multi_processor_count=82)"
      ]
     },
     "execution_count": 62,
     "metadata": {},
     "output_type": "execute_result"
    }
   ],
   "source": [
    "torch.cuda.get_device_properties(0)"
   ]
  },
  {
   "cell_type": "code",
   "execution_count": 63,
   "metadata": {},
   "outputs": [
    {
     "data": {
      "text/html": [
       "\n",
       "    <div>\n",
       "        <style>\n",
       "            /* Turns off some styling */\n",
       "            progress {\n",
       "                /* gets rid of default border in Firefox and Opera. */\n",
       "                border: none;\n",
       "                /* Needs to be in here for Safari polyfill so background images work as expected. */\n",
       "                background-size: auto;\n",
       "            }\n",
       "            .progress-bar-interrupted, .progress-bar-interrupted::-webkit-progress-bar {\n",
       "                background: #F44336;\n",
       "            }\n",
       "        </style>\n",
       "      <progress value='1' class='' max='3' style='width:300px; height:20px; vertical-align: middle;'></progress>\n",
       "      33.33% [1/3 02:58<05:57]\n",
       "    </div>\n",
       "    \n",
       "<table border=\"1\" class=\"dataframe\">\n",
       "  <thead>\n",
       "    <tr style=\"text-align: left;\">\n",
       "      <th>epoch</th>\n",
       "      <th>train_loss</th>\n",
       "      <th>valid_loss</th>\n",
       "      <th>rmse_age</th>\n",
       "      <th>acc_gender</th>\n",
       "      <th>acc_ethnicity</th>\n",
       "      <th>time</th>\n",
       "    </tr>\n",
       "  </thead>\n",
       "  <tbody>\n",
       "    <tr>\n",
       "      <td>0</td>\n",
       "      <td>5.549106</td>\n",
       "      <td>#na#</td>\n",
       "      <td>02:58</td>\n",
       "    </tr>\n",
       "  </tbody>\n",
       "</table><p>\n",
       "\n",
       "    <div>\n",
       "        <style>\n",
       "            /* Turns off some styling */\n",
       "            progress {\n",
       "                /* gets rid of default border in Firefox and Opera. */\n",
       "                border: none;\n",
       "                /* Needs to be in here for Safari polyfill so background images work as expected. */\n",
       "                background-size: auto;\n",
       "            }\n",
       "            .progress-bar-interrupted, .progress-bar-interrupted::-webkit-progress-bar {\n",
       "                background: #F44336;\n",
       "            }\n",
       "        </style>\n",
       "      <progress value='41' class='' max='47' style='width:300px; height:20px; vertical-align: middle;'></progress>\n",
       "      87.23% [41/47 01:20<00:11 16.8548]\n",
       "    </div>\n",
       "    "
      ],
      "text/plain": [
       "<IPython.core.display.HTML object>"
      ]
     },
     "metadata": {},
     "output_type": "display_data"
    },
    {
     "name": "stdout",
     "output_type": "stream",
     "text": [
      "LR Finder is complete, type {learner_name}.recorder.plot() to see the graph.\n"
     ]
    }
   ],
   "source": [
    "learn.lr_find()"
   ]
  },
  {
   "cell_type": "code",
   "execution_count": 64,
   "metadata": {},
   "outputs": [
    {
     "data": {
      "image/png": "[encoded data removed]",
      "text/plain": [
       "<Figure size 432x288 with 1 Axes>"
      ]
     },
     "metadata": {
      "needs_background": "light"
     },
     "output_type": "display_data"
    }
   ],
   "source": [
    "learn.recorder.plot()"
   ]
  },
  {
   "cell_type": "code",
   "execution_count": 65,
   "metadata": {},
   "outputs": [
    {
     "data": {
      "text/plain": [
       "2"
      ]
     },
     "execution_count": 65,
     "metadata": {},
     "output_type": "execute_result"
    }
   ],
   "source": [
    "1+1"
   ]
  },
  {
   "cell_type": "code",
   "execution_count": 29,
   "metadata": {},
   "outputs": [
    {
     "data": {
      "text/html": [
       "<table border=\"1\" class=\"dataframe\">\n",
       "  <thead>\n",
       "    <tr style=\"text-align: left;\">\n",
       "      <th>epoch</th>\n",
       "      <th>train_loss</th>\n",
       "      <th>valid_loss</th>\n",
       "      <th>rmse_age</th>\n",
       "      <th>acc_gender</th>\n",
       "      <th>acc_ethnicity</th>\n",
       "      <th>time</th>\n",
       "    </tr>\n",
       "  </thead>\n",
       "  <tbody>\n",
       "    <tr>\n",
       "      <td>0</td>\n",
       "      <td>2.163299</td>\n",
       "      <td>1.791126</td>\n",
       "      <td>0.227553</td>\n",
       "      <td>0.748134</td>\n",
       "      <td>0.612742</td>\n",
       "      <td>02:40</td>\n",
       "    </tr>\n",
       "    <tr>\n",
       "      <td>1</td>\n",
       "      <td>1.725411</td>\n",
       "      <td>1.412105</td>\n",
       "      <td>0.151442</td>\n",
       "      <td>0.779425</td>\n",
       "      <td>0.688107</td>\n",
       "      <td>01:55</td>\n",
       "    </tr>\n",
       "    <tr>\n",
       "      <td>2</td>\n",
       "      <td>1.437735</td>\n",
       "      <td>1.315586</td>\n",
       "      <td>0.136425</td>\n",
       "      <td>0.795378</td>\n",
       "      <td>0.708559</td>\n",
       "      <td>02:02</td>\n",
       "    </tr>\n",
       "    <tr>\n",
       "      <td>3</td>\n",
       "      <td>1.257547</td>\n",
       "      <td>1.643032</td>\n",
       "      <td>0.132475</td>\n",
       "      <td>0.812967</td>\n",
       "      <td>0.620309</td>\n",
       "      <td>02:00</td>\n",
       "    </tr>\n",
       "    <tr>\n",
       "      <td>4</td>\n",
       "      <td>1.126166</td>\n",
       "      <td>1.115292</td>\n",
       "      <td>0.117910</td>\n",
       "      <td>0.849882</td>\n",
       "      <td>0.742816</td>\n",
       "      <td>01:58</td>\n",
       "    </tr>\n",
       "    <tr>\n",
       "      <td>5</td>\n",
       "      <td>1.044270</td>\n",
       "      <td>1.024674</td>\n",
       "      <td>0.132266</td>\n",
       "      <td>0.857041</td>\n",
       "      <td>0.772369</td>\n",
       "      <td>01:57</td>\n",
       "    </tr>\n",
       "    <tr>\n",
       "      <td>6</td>\n",
       "      <td>0.989839</td>\n",
       "      <td>1.024061</td>\n",
       "      <td>0.111422</td>\n",
       "      <td>0.856938</td>\n",
       "      <td>0.767665</td>\n",
       "      <td>01:58</td>\n",
       "    </tr>\n",
       "    <tr>\n",
       "      <td>7</td>\n",
       "      <td>0.944046</td>\n",
       "      <td>0.990498</td>\n",
       "      <td>0.104841</td>\n",
       "      <td>0.871357</td>\n",
       "      <td>0.751406</td>\n",
       "      <td>01:56</td>\n",
       "    </tr>\n",
       "    <tr>\n",
       "      <td>8</td>\n",
       "      <td>0.907322</td>\n",
       "      <td>0.891648</td>\n",
       "      <td>0.098421</td>\n",
       "      <td>0.856632</td>\n",
       "      <td>0.798139</td>\n",
       "      <td>01:57</td>\n",
       "    </tr>\n",
       "    <tr>\n",
       "      <td>9</td>\n",
       "      <td>0.874666</td>\n",
       "      <td>0.879312</td>\n",
       "      <td>0.095330</td>\n",
       "      <td>0.880765</td>\n",
       "      <td>0.790367</td>\n",
       "      <td>01:57</td>\n",
       "    </tr>\n",
       "    <tr>\n",
       "      <td>10</td>\n",
       "      <td>0.840022</td>\n",
       "      <td>0.775872</td>\n",
       "      <td>0.091770</td>\n",
       "      <td>0.877697</td>\n",
       "      <td>0.823806</td>\n",
       "      <td>02:01</td>\n",
       "    </tr>\n",
       "    <tr>\n",
       "      <td>11</td>\n",
       "      <td>0.806241</td>\n",
       "      <td>0.704250</td>\n",
       "      <td>0.088773</td>\n",
       "      <td>0.896104</td>\n",
       "      <td>0.838225</td>\n",
       "      <td>02:05</td>\n",
       "    </tr>\n",
       "    <tr>\n",
       "      <td>12</td>\n",
       "      <td>0.769721</td>\n",
       "      <td>0.692370</td>\n",
       "      <td>0.086117</td>\n",
       "      <td>0.896411</td>\n",
       "      <td>0.843133</td>\n",
       "      <td>01:55</td>\n",
       "    </tr>\n",
       "    <tr>\n",
       "      <td>13</td>\n",
       "      <td>0.748304</td>\n",
       "      <td>0.678034</td>\n",
       "      <td>0.087122</td>\n",
       "      <td>0.900603</td>\n",
       "      <td>0.844156</td>\n",
       "      <td>01:51</td>\n",
       "    </tr>\n",
       "    <tr>\n",
       "      <td>14</td>\n",
       "      <td>0.734784</td>\n",
       "      <td>0.674589</td>\n",
       "      <td>0.088824</td>\n",
       "      <td>0.900501</td>\n",
       "      <td>0.844360</td>\n",
       "      <td>01:53</td>\n",
       "    </tr>\n",
       "  </tbody>\n",
       "</table>"
      ],
      "text/plain": [
       "<IPython.core.display.HTML object>"
      ]
     },
     "metadata": {},
     "output_type": "display_data"
    },
    {
     "data": {
      "image/png": "[encoded data removed]",
      "text/plain": [
       "<Figure size 432x288 with 1 Axes>"
      ]
     },
     "metadata": {},
     "output_type": "display_data"
    },
    {
     "name": "stdout",
     "output_type": "stream",
     "text": [
      "Better model found at epoch 0 with valid_loss value: 1.7911264896392822.\n",
      "Better model found at epoch 1 with valid_loss value: 1.4121054410934448.\n",
      "Better model found at epoch 2 with valid_loss value: 1.3155863285064697.\n",
      "Better model found at epoch 4 with valid_loss value: 1.1152923107147217.\n",
      "Better model found at epoch 5 with valid_loss value: 1.0246737003326416.\n",
      "Better model found at epoch 6 with valid_loss value: 1.024060845375061.\n",
      "Better model found at epoch 7 with valid_loss value: 0.9904983043670654.\n",
      "Better model found at epoch 8 with valid_loss value: 0.8916481137275696.\n",
      "Better model found at epoch 9 with valid_loss value: 0.8793119788169861.\n",
      "Better model found at epoch 10 with valid_loss value: 0.775871992111206.\n",
      "Better model found at epoch 11 with valid_loss value: 0.7042503356933594.\n",
      "Better model found at epoch 12 with valid_loss value: 0.6923696398735046.\n",
      "Better model found at epoch 13 with valid_loss value: 0.6780344843864441.\n",
      "Better model found at epoch 14 with valid_loss value: 0.6745889186859131.\n"
     ]
    }
   ],
   "source": [
    "learn.fit_one_cycle(15, max_lr = 1e-2,\n",
    "                   callbacks = [callbacks.SaveModelCallback(learn, every='improvement',\n",
    "                                                           monitor = 'valid_loss',\n",
    "                                                           name = 'stage-1')])"
   ]
  },
  {
   "cell_type": "code",
   "execution_count": 30,
   "metadata": {},
   "outputs": [
    {
     "data": {
      "text/plain": [
       "Learner(data=DataBunch;\n",
       "\n",
       "Train: <__main__.MultiTaskDataset object at 0x000002CD430C3FD0>;\n",
       "\n",
       "Valid: <__main__.MultiTaskDataset object at 0x000002CD430AF970>;\n",
       "\n",
       "Test: None, model=MultiTaskMokdel(\n",
       "  (encoder): Sequential(\n",
       "    (0): Conv2d(3, 64, kernel_size=(7, 7), stride=(2, 2), padding=(3, 3), bias=False)\n",
       "    (1): BatchNorm2d(64, eps=1e-05, momentum=0.1, affine=True, track_running_stats=True)\n",
       "    (2): ReLU(inplace=True)\n",
       "    (3): MaxPool2d(kernel_size=3, stride=2, padding=1, dilation=1, ceil_mode=False)\n",
       "    (4): Sequential(\n",
       "      (0): BasicBlock(\n",
       "        (conv1): Conv2d(64, 64, kernel_size=(3, 3), stride=(1, 1), padding=(1, 1), bias=False)\n",
       "        (bn1): BatchNorm2d(64, eps=1e-05, momentum=0.1, affine=True, track_running_stats=True)\n",
       "        (relu): ReLU(inplace=True)\n",
       "        (conv2): Conv2d(64, 64, kernel_size=(3, 3), stride=(1, 1), padding=(1, 1), bias=False)\n",
       "        (bn2): BatchNorm2d(64, eps=1e-05, momentum=0.1, affine=True, track_running_stats=True)\n",
       "      )\n",
       "      (1): BasicBlock(\n",
       "        (conv1): Conv2d(64, 64, kernel_size=(3, 3), stride=(1, 1), padding=(1, 1), bias=False)\n",
       "        (bn1): BatchNorm2d(64, eps=1e-05, momentum=0.1, affine=True, track_running_stats=True)\n",
       "        (relu): ReLU(inplace=True)\n",
       "        (conv2): Conv2d(64, 64, kernel_size=(3, 3), stride=(1, 1), padding=(1, 1), bias=False)\n",
       "        (bn2): BatchNorm2d(64, eps=1e-05, momentum=0.1, affine=True, track_running_stats=True)\n",
       "      )\n",
       "      (2): BasicBlock(\n",
       "        (conv1): Conv2d(64, 64, kernel_size=(3, 3), stride=(1, 1), padding=(1, 1), bias=False)\n",
       "        (bn1): BatchNorm2d(64, eps=1e-05, momentum=0.1, affine=True, track_running_stats=True)\n",
       "        (relu): ReLU(inplace=True)\n",
       "        (conv2): Conv2d(64, 64, kernel_size=(3, 3), stride=(1, 1), padding=(1, 1), bias=False)\n",
       "        (bn2): BatchNorm2d(64, eps=1e-05, momentum=0.1, affine=True, track_running_stats=True)\n",
       "      )\n",
       "    )\n",
       "    (5): Sequential(\n",
       "      (0): BasicBlock(\n",
       "        (conv1): Conv2d(64, 128, kernel_size=(3, 3), stride=(2, 2), padding=(1, 1), bias=False)\n",
       "        (bn1): BatchNorm2d(128, eps=1e-05, momentum=0.1, affine=True, track_running_stats=True)\n",
       "        (relu): ReLU(inplace=True)\n",
       "        (conv2): Conv2d(128, 128, kernel_size=(3, 3), stride=(1, 1), padding=(1, 1), bias=False)\n",
       "        (bn2): BatchNorm2d(128, eps=1e-05, momentum=0.1, affine=True, track_running_stats=True)\n",
       "        (downsample): Sequential(\n",
       "          (0): Conv2d(64, 128, kernel_size=(1, 1), stride=(2, 2), bias=False)\n",
       "          (1): BatchNorm2d(128, eps=1e-05, momentum=0.1, affine=True, track_running_stats=True)\n",
       "        )\n",
       "      )\n",
       "      (1): BasicBlock(\n",
       "        (conv1): Conv2d(128, 128, kernel_size=(3, 3), stride=(1, 1), padding=(1, 1), bias=False)\n",
       "        (bn1): BatchNorm2d(128, eps=1e-05, momentum=0.1, affine=True, track_running_stats=True)\n",
       "        (relu): ReLU(inplace=True)\n",
       "        (conv2): Conv2d(128, 128, kernel_size=(3, 3), stride=(1, 1), padding=(1, 1), bias=False)\n",
       "        (bn2): BatchNorm2d(128, eps=1e-05, momentum=0.1, affine=True, track_running_stats=True)\n",
       "      )\n",
       "      (2): BasicBlock(\n",
       "        (conv1): Conv2d(128, 128, kernel_size=(3, 3), stride=(1, 1), padding=(1, 1), bias=False)\n",
       "        (bn1): BatchNorm2d(128, eps=1e-05, momentum=0.1, affine=True, track_running_stats=True)\n",
       "        (relu): ReLU(inplace=True)\n",
       "        (conv2): Conv2d(128, 128, kernel_size=(3, 3), stride=(1, 1), padding=(1, 1), bias=False)\n",
       "        (bn2): BatchNorm2d(128, eps=1e-05, momentum=0.1, affine=True, track_running_stats=True)\n",
       "      )\n",
       "      (3): BasicBlock(\n",
       "        (conv1): Conv2d(128, 128, kernel_size=(3, 3), stride=(1, 1), padding=(1, 1), bias=False)\n",
       "        (bn1): BatchNorm2d(128, eps=1e-05, momentum=0.1, affine=True, track_running_stats=True)\n",
       "        (relu): ReLU(inplace=True)\n",
       "        (conv2): Conv2d(128, 128, kernel_size=(3, 3), stride=(1, 1), padding=(1, 1), bias=False)\n",
       "        (bn2): BatchNorm2d(128, eps=1e-05, momentum=0.1, affine=True, track_running_stats=True)\n",
       "      )\n",
       "    )\n",
       "    (6): Sequential(\n",
       "      (0): BasicBlock(\n",
       "        (conv1): Conv2d(128, 256, kernel_size=(3, 3), stride=(2, 2), padding=(1, 1), bias=False)\n",
       "        (bn1): BatchNorm2d(256, eps=1e-05, momentum=0.1, affine=True, track_running_stats=True)\n",
       "        (relu): ReLU(inplace=True)\n",
       "        (conv2): Conv2d(256, 256, kernel_size=(3, 3), stride=(1, 1), padding=(1, 1), bias=False)\n",
       "        (bn2): BatchNorm2d(256, eps=1e-05, momentum=0.1, affine=True, track_running_stats=True)\n",
       "        (downsample): Sequential(\n",
       "          (0): Conv2d(128, 256, kernel_size=(1, 1), stride=(2, 2), bias=False)\n",
       "          (1): BatchNorm2d(256, eps=1e-05, momentum=0.1, affine=True, track_running_stats=True)\n",
       "        )\n",
       "      )\n",
       "      (1): BasicBlock(\n",
       "        (conv1): Conv2d(256, 256, kernel_size=(3, 3), stride=(1, 1), padding=(1, 1), bias=False)\n",
       "        (bn1): BatchNorm2d(256, eps=1e-05, momentum=0.1, affine=True, track_running_stats=True)\n",
       "        (relu): ReLU(inplace=True)\n",
       "        (conv2): Conv2d(256, 256, kernel_size=(3, 3), stride=(1, 1), padding=(1, 1), bias=False)\n",
       "        (bn2): BatchNorm2d(256, eps=1e-05, momentum=0.1, affine=True, track_running_stats=True)\n",
       "      )\n",
       "      (2): BasicBlock(\n",
       "        (conv1): Conv2d(256, 256, kernel_size=(3, 3), stride=(1, 1), padding=(1, 1), bias=False)\n",
       "        (bn1): BatchNorm2d(256, eps=1e-05, momentum=0.1, affine=True, track_running_stats=True)\n",
       "        (relu): ReLU(inplace=True)\n",
       "        (conv2): Conv2d(256, 256, kernel_size=(3, 3), stride=(1, 1), padding=(1, 1), bias=False)\n",
       "        (bn2): BatchNorm2d(256, eps=1e-05, momentum=0.1, affine=True, track_running_stats=True)\n",
       "      )\n",
       "      (3): BasicBlock(\n",
       "        (conv1): Conv2d(256, 256, kernel_size=(3, 3), stride=(1, 1), padding=(1, 1), bias=False)\n",
       "        (bn1): BatchNorm2d(256, eps=1e-05, momentum=0.1, affine=True, track_running_stats=True)\n",
       "        (relu): ReLU(inplace=True)\n",
       "        (conv2): Conv2d(256, 256, kernel_size=(3, 3), stride=(1, 1), padding=(1, 1), bias=False)\n",
       "        (bn2): BatchNorm2d(256, eps=1e-05, momentum=0.1, affine=True, track_running_stats=True)\n",
       "      )\n",
       "      (4): BasicBlock(\n",
       "        (conv1): Conv2d(256, 256, kernel_size=(3, 3), stride=(1, 1), padding=(1, 1), bias=False)\n",
       "        (bn1): BatchNorm2d(256, eps=1e-05, momentum=0.1, affine=True, track_running_stats=True)\n",
       "        (relu): ReLU(inplace=True)\n",
       "        (conv2): Conv2d(256, 256, kernel_size=(3, 3), stride=(1, 1), padding=(1, 1), bias=False)\n",
       "        (bn2): BatchNorm2d(256, eps=1e-05, momentum=0.1, affine=True, track_running_stats=True)\n",
       "      )\n",
       "      (5): BasicBlock(\n",
       "        (conv1): Conv2d(256, 256, kernel_size=(3, 3), stride=(1, 1), padding=(1, 1), bias=False)\n",
       "        (bn1): BatchNorm2d(256, eps=1e-05, momentum=0.1, affine=True, track_running_stats=True)\n",
       "        (relu): ReLU(inplace=True)\n",
       "        (conv2): Conv2d(256, 256, kernel_size=(3, 3), stride=(1, 1), padding=(1, 1), bias=False)\n",
       "        (bn2): BatchNorm2d(256, eps=1e-05, momentum=0.1, affine=True, track_running_stats=True)\n",
       "      )\n",
       "    )\n",
       "    (7): Sequential(\n",
       "      (0): BasicBlock(\n",
       "        (conv1): Conv2d(256, 512, kernel_size=(3, 3), stride=(2, 2), padding=(1, 1), bias=False)\n",
       "        (bn1): BatchNorm2d(512, eps=1e-05, momentum=0.1, affine=True, track_running_stats=True)\n",
       "        (relu): ReLU(inplace=True)\n",
       "        (conv2): Conv2d(512, 512, kernel_size=(3, 3), stride=(1, 1), padding=(1, 1), bias=False)\n",
       "        (bn2): BatchNorm2d(512, eps=1e-05, momentum=0.1, affine=True, track_running_stats=True)\n",
       "        (downsample): Sequential(\n",
       "          (0): Conv2d(256, 512, kernel_size=(1, 1), stride=(2, 2), bias=False)\n",
       "          (1): BatchNorm2d(512, eps=1e-05, momentum=0.1, affine=True, track_running_stats=True)\n",
       "        )\n",
       "      )\n",
       "      (1): BasicBlock(\n",
       "        (conv1): Conv2d(512, 512, kernel_size=(3, 3), stride=(1, 1), padding=(1, 1), bias=False)\n",
       "        (bn1): BatchNorm2d(512, eps=1e-05, momentum=0.1, affine=True, track_running_stats=True)\n",
       "        (relu): ReLU(inplace=True)\n",
       "        (conv2): Conv2d(512, 512, kernel_size=(3, 3), stride=(1, 1), padding=(1, 1), bias=False)\n",
       "        (bn2): BatchNorm2d(512, eps=1e-05, momentum=0.1, affine=True, track_running_stats=True)\n",
       "      )\n",
       "      (2): BasicBlock(\n",
       "        (conv1): Conv2d(512, 512, kernel_size=(3, 3), stride=(1, 1), padding=(1, 1), bias=False)\n",
       "        (bn1): BatchNorm2d(512, eps=1e-05, momentum=0.1, affine=True, track_running_stats=True)\n",
       "        (relu): ReLU(inplace=True)\n",
       "        (conv2): Conv2d(512, 512, kernel_size=(3, 3), stride=(1, 1), padding=(1, 1), bias=False)\n",
       "        (bn2): BatchNorm2d(512, eps=1e-05, momentum=0.1, affine=True, track_running_stats=True)\n",
       "      )\n",
       "    )\n",
       "  )\n",
       "  (fc1): Sequential(\n",
       "    (0): AdaptiveConcatPool2d(\n",
       "      (ap): AdaptiveAvgPool2d(output_size=1)\n",
       "      (mp): AdaptiveMaxPool2d(output_size=1)\n",
       "    )\n",
       "    (1): Flatten()\n",
       "    (2): BatchNorm1d(1024, eps=1e-05, momentum=0.1, affine=True, track_running_stats=True)\n",
       "    (3): Dropout(p=0.125, inplace=False)\n",
       "    (4): Linear(in_features=1024, out_features=512, bias=True)\n",
       "    (5): ReLU(inplace=True)\n",
       "    (6): BatchNorm1d(512, eps=1e-05, momentum=0.1, affine=True, track_running_stats=True)\n",
       "    (7): Dropout(p=0.25, inplace=False)\n",
       "    (8): Linear(in_features=512, out_features=1, bias=True)\n",
       "  )\n",
       "  (fc2): Sequential(\n",
       "    (0): AdaptiveConcatPool2d(\n",
       "      (ap): AdaptiveAvgPool2d(output_size=1)\n",
       "      (mp): AdaptiveMaxPool2d(output_size=1)\n",
       "    )\n",
       "    (1): Flatten()\n",
       "    (2): BatchNorm1d(1024, eps=1e-05, momentum=0.1, affine=True, track_running_stats=True)\n",
       "    (3): Dropout(p=0.125, inplace=False)\n",
       "    (4): Linear(in_features=1024, out_features=512, bias=True)\n",
       "    (5): ReLU(inplace=True)\n",
       "    (6): BatchNorm1d(512, eps=1e-05, momentum=0.1, affine=True, track_running_stats=True)\n",
       "    (7): Dropout(p=0.25, inplace=False)\n",
       "    (8): Linear(in_features=512, out_features=2, bias=True)\n",
       "  )\n",
       "  (fc3): Sequential(\n",
       "    (0): AdaptiveConcatPool2d(\n",
       "      (ap): AdaptiveAvgPool2d(output_size=1)\n",
       "      (mp): AdaptiveMaxPool2d(output_size=1)\n",
       "    )\n",
       "    (1): Flatten()\n",
       "    (2): BatchNorm1d(1024, eps=1e-05, momentum=0.1, affine=True, track_running_stats=True)\n",
       "    (3): Dropout(p=0.125, inplace=False)\n",
       "    (4): Linear(in_features=1024, out_features=512, bias=True)\n",
       "    (5): ReLU(inplace=True)\n",
       "    (6): BatchNorm1d(512, eps=1e-05, momentum=0.1, affine=True, track_running_stats=True)\n",
       "    (7): Dropout(p=0.25, inplace=False)\n",
       "    (8): Linear(in_features=512, out_features=5, bias=True)\n",
       "  )\n",
       "), opt_func=functools.partial(<class 'torch.optim.adam.Adam'>, betas=(0.9, 0.99)), loss_func=MultiTaskWrapper(), metrics=[<function rmse_age at 0x000002CD430D5670>, <function acc_gender at 0x000002CD430D5040>, <function acc_ethnicity at 0x000002CD430BAEE0>], true_wd=True, bn_wd=True, wd=0.01, train_bn=True, path=WindowsPath('.'), model_dir='models', callback_fns=[functools.partial(<class 'fastai.basic_train.Recorder'>, add_time=True, silent=False), <class 'fastai.train.ShowGraph'>], callbacks=[], layer_groups=[Sequential(\n",
       "  (0): Conv2d(3, 64, kernel_size=(7, 7), stride=(2, 2), padding=(3, 3), bias=False)\n",
       "  (1): BatchNorm2d(64, eps=1e-05, momentum=0.1, affine=True, track_running_stats=True)\n",
       "  (2): ReLU(inplace=True)\n",
       "  (3): MaxPool2d(kernel_size=3, stride=2, padding=1, dilation=1, ceil_mode=False)\n",
       "  (4): Conv2d(64, 64, kernel_size=(3, 3), stride=(1, 1), padding=(1, 1), bias=False)\n",
       "  (5): BatchNorm2d(64, eps=1e-05, momentum=0.1, affine=True, track_running_stats=True)\n",
       "  (6): ReLU(inplace=True)\n",
       "  (7): Conv2d(64, 64, kernel_size=(3, 3), stride=(1, 1), padding=(1, 1), bias=False)\n",
       "  (8): BatchNorm2d(64, eps=1e-05, momentum=0.1, affine=True, track_running_stats=True)\n",
       "  (9): Conv2d(64, 64, kernel_size=(3, 3), stride=(1, 1), padding=(1, 1), bias=False)\n",
       "  (10): BatchNorm2d(64, eps=1e-05, momentum=0.1, affine=True, track_running_stats=True)\n",
       "  (11): ReLU(inplace=True)\n",
       "  (12): Conv2d(64, 64, kernel_size=(3, 3), stride=(1, 1), padding=(1, 1), bias=False)\n",
       "  (13): BatchNorm2d(64, eps=1e-05, momentum=0.1, affine=True, track_running_stats=True)\n",
       "  (14): Conv2d(64, 64, kernel_size=(3, 3), stride=(1, 1), padding=(1, 1), bias=False)\n",
       "  (15): BatchNorm2d(64, eps=1e-05, momentum=0.1, affine=True, track_running_stats=True)\n",
       "  (16): ReLU(inplace=True)\n",
       "  (17): Conv2d(64, 64, kernel_size=(3, 3), stride=(1, 1), padding=(1, 1), bias=False)\n",
       "  (18): BatchNorm2d(64, eps=1e-05, momentum=0.1, affine=True, track_running_stats=True)\n",
       "  (19): Conv2d(64, 128, kernel_size=(3, 3), stride=(2, 2), padding=(1, 1), bias=False)\n",
       "  (20): BatchNorm2d(128, eps=1e-05, momentum=0.1, affine=True, track_running_stats=True)\n",
       "  (21): ReLU(inplace=True)\n",
       "  (22): Conv2d(128, 128, kernel_size=(3, 3), stride=(1, 1), padding=(1, 1), bias=False)\n",
       "  (23): BatchNorm2d(128, eps=1e-05, momentum=0.1, affine=True, track_running_stats=True)\n",
       "  (24): Conv2d(64, 128, kernel_size=(1, 1), stride=(2, 2), bias=False)\n",
       "  (25): BatchNorm2d(128, eps=1e-05, momentum=0.1, affine=True, track_running_stats=True)\n",
       "  (26): Conv2d(128, 128, kernel_size=(3, 3), stride=(1, 1), padding=(1, 1), bias=False)\n",
       "  (27): BatchNorm2d(128, eps=1e-05, momentum=0.1, affine=True, track_running_stats=True)\n",
       "  (28): ReLU(inplace=True)\n",
       "  (29): Conv2d(128, 128, kernel_size=(3, 3), stride=(1, 1), padding=(1, 1), bias=False)\n",
       "  (30): BatchNorm2d(128, eps=1e-05, momentum=0.1, affine=True, track_running_stats=True)\n",
       "  (31): Conv2d(128, 128, kernel_size=(3, 3), stride=(1, 1), padding=(1, 1), bias=False)\n",
       "  (32): BatchNorm2d(128, eps=1e-05, momentum=0.1, affine=True, track_running_stats=True)\n",
       "  (33): ReLU(inplace=True)\n",
       "  (34): Conv2d(128, 128, kernel_size=(3, 3), stride=(1, 1), padding=(1, 1), bias=False)\n",
       "  (35): BatchNorm2d(128, eps=1e-05, momentum=0.1, affine=True, track_running_stats=True)\n",
       "  (36): Conv2d(128, 128, kernel_size=(3, 3), stride=(1, 1), padding=(1, 1), bias=False)\n",
       "  (37): BatchNorm2d(128, eps=1e-05, momentum=0.1, affine=True, track_running_stats=True)\n",
       "  (38): ReLU(inplace=True)\n",
       "  (39): Conv2d(128, 128, kernel_size=(3, 3), stride=(1, 1), padding=(1, 1), bias=False)\n",
       "  (40): BatchNorm2d(128, eps=1e-05, momentum=0.1, affine=True, track_running_stats=True)\n",
       "), Sequential(\n",
       "  (0): Conv2d(128, 256, kernel_size=(3, 3), stride=(2, 2), padding=(1, 1), bias=False)\n",
       "  (1): BatchNorm2d(256, eps=1e-05, momentum=0.1, affine=True, track_running_stats=True)\n",
       "  (2): ReLU(inplace=True)\n",
       "  (3): Conv2d(256, 256, kernel_size=(3, 3), stride=(1, 1), padding=(1, 1), bias=False)\n",
       "  (4): BatchNorm2d(256, eps=1e-05, momentum=0.1, affine=True, track_running_stats=True)\n",
       "  (5): Conv2d(128, 256, kernel_size=(1, 1), stride=(2, 2), bias=False)\n",
       "  (6): BatchNorm2d(256, eps=1e-05, momentum=0.1, affine=True, track_running_stats=True)\n",
       "  (7): Conv2d(256, 256, kernel_size=(3, 3), stride=(1, 1), padding=(1, 1), bias=False)\n",
       "  (8): BatchNorm2d(256, eps=1e-05, momentum=0.1, affine=True, track_running_stats=True)\n",
       "  (9): ReLU(inplace=True)\n",
       "  (10): Conv2d(256, 256, kernel_size=(3, 3), stride=(1, 1), padding=(1, 1), bias=False)\n",
       "  (11): BatchNorm2d(256, eps=1e-05, momentum=0.1, affine=True, track_running_stats=True)\n",
       "  (12): Conv2d(256, 256, kernel_size=(3, 3), stride=(1, 1), padding=(1, 1), bias=False)\n",
       "  (13): BatchNorm2d(256, eps=1e-05, momentum=0.1, affine=True, track_running_stats=True)\n",
       "  (14): ReLU(inplace=True)\n",
       "  (15): Conv2d(256, 256, kernel_size=(3, 3), stride=(1, 1), padding=(1, 1), bias=False)\n",
       "  (16): BatchNorm2d(256, eps=1e-05, momentum=0.1, affine=True, track_running_stats=True)\n",
       "  (17): Conv2d(256, 256, kernel_size=(3, 3), stride=(1, 1), padding=(1, 1), bias=False)\n",
       "  (18): BatchNorm2d(256, eps=1e-05, momentum=0.1, affine=True, track_running_stats=True)\n",
       "  (19): ReLU(inplace=True)\n",
       "  (20): Conv2d(256, 256, kernel_size=(3, 3), stride=(1, 1), padding=(1, 1), bias=False)\n",
       "  (21): BatchNorm2d(256, eps=1e-05, momentum=0.1, affine=True, track_running_stats=True)\n",
       "  (22): Conv2d(256, 256, kernel_size=(3, 3), stride=(1, 1), padding=(1, 1), bias=False)\n",
       "  (23): BatchNorm2d(256, eps=1e-05, momentum=0.1, affine=True, track_running_stats=True)\n",
       "  (24): ReLU(inplace=True)\n",
       "  (25): Conv2d(256, 256, kernel_size=(3, 3), stride=(1, 1), padding=(1, 1), bias=False)\n",
       "  (26): BatchNorm2d(256, eps=1e-05, momentum=0.1, affine=True, track_running_stats=True)\n",
       "  (27): Conv2d(256, 256, kernel_size=(3, 3), stride=(1, 1), padding=(1, 1), bias=False)\n",
       "  (28): BatchNorm2d(256, eps=1e-05, momentum=0.1, affine=True, track_running_stats=True)\n",
       "  (29): ReLU(inplace=True)\n",
       "  (30): Conv2d(256, 256, kernel_size=(3, 3), stride=(1, 1), padding=(1, 1), bias=False)\n",
       "  (31): BatchNorm2d(256, eps=1e-05, momentum=0.1, affine=True, track_running_stats=True)\n",
       "  (32): Conv2d(256, 512, kernel_size=(3, 3), stride=(2, 2), padding=(1, 1), bias=False)\n",
       "  (33): BatchNorm2d(512, eps=1e-05, momentum=0.1, affine=True, track_running_stats=True)\n",
       "  (34): ReLU(inplace=True)\n",
       "  (35): Conv2d(512, 512, kernel_size=(3, 3), stride=(1, 1), padding=(1, 1), bias=False)\n",
       "  (36): BatchNorm2d(512, eps=1e-05, momentum=0.1, affine=True, track_running_stats=True)\n",
       "  (37): Conv2d(256, 512, kernel_size=(1, 1), stride=(2, 2), bias=False)\n",
       "  (38): BatchNorm2d(512, eps=1e-05, momentum=0.1, affine=True, track_running_stats=True)\n",
       "  (39): Conv2d(512, 512, kernel_size=(3, 3), stride=(1, 1), padding=(1, 1), bias=False)\n",
       "  (40): BatchNorm2d(512, eps=1e-05, momentum=0.1, affine=True, track_running_stats=True)\n",
       "  (41): ReLU(inplace=True)\n",
       "  (42): Conv2d(512, 512, kernel_size=(3, 3), stride=(1, 1), padding=(1, 1), bias=False)\n",
       "  (43): BatchNorm2d(512, eps=1e-05, momentum=0.1, affine=True, track_running_stats=True)\n",
       "  (44): Conv2d(512, 512, kernel_size=(3, 3), stride=(1, 1), padding=(1, 1), bias=False)\n",
       "  (45): BatchNorm2d(512, eps=1e-05, momentum=0.1, affine=True, track_running_stats=True)\n",
       "  (46): ReLU(inplace=True)\n",
       "  (47): Conv2d(512, 512, kernel_size=(3, 3), stride=(1, 1), padding=(1, 1), bias=False)\n",
       "  (48): BatchNorm2d(512, eps=1e-05, momentum=0.1, affine=True, track_running_stats=True)\n",
       "), Sequential(\n",
       "  (0): AdaptiveAvgPool2d(output_size=1)\n",
       "  (1): AdaptiveMaxPool2d(output_size=1)\n",
       "  (2): Flatten()\n",
       "  (3): BatchNorm1d(1024, eps=1e-05, momentum=0.1, affine=True, track_running_stats=True)\n",
       "  (4): Dropout(p=0.125, inplace=False)\n",
       "  (5): Linear(in_features=1024, out_features=512, bias=True)\n",
       "  (6): ReLU(inplace=True)\n",
       "  (7): BatchNorm1d(512, eps=1e-05, momentum=0.1, affine=True, track_running_stats=True)\n",
       "  (8): Dropout(p=0.25, inplace=False)\n",
       "  (9): Linear(in_features=512, out_features=1, bias=True)\n",
       "  (10): AdaptiveAvgPool2d(output_size=1)\n",
       "  (11): AdaptiveMaxPool2d(output_size=1)\n",
       "  (12): Flatten()\n",
       "  (13): BatchNorm1d(1024, eps=1e-05, momentum=0.1, affine=True, track_running_stats=True)\n",
       "  (14): Dropout(p=0.125, inplace=False)\n",
       "  (15): Linear(in_features=1024, out_features=512, bias=True)\n",
       "  (16): ReLU(inplace=True)\n",
       "  (17): BatchNorm1d(512, eps=1e-05, momentum=0.1, affine=True, track_running_stats=True)\n",
       "  (18): Dropout(p=0.25, inplace=False)\n",
       "  (19): Linear(in_features=512, out_features=2, bias=True)\n",
       "  (20): AdaptiveAvgPool2d(output_size=1)\n",
       "  (21): AdaptiveMaxPool2d(output_size=1)\n",
       "  (22): Flatten()\n",
       "  (23): BatchNorm1d(1024, eps=1e-05, momentum=0.1, affine=True, track_running_stats=True)\n",
       "  (24): Dropout(p=0.125, inplace=False)\n",
       "  (25): Linear(in_features=1024, out_features=512, bias=True)\n",
       "  (26): ReLU(inplace=True)\n",
       "  (27): BatchNorm1d(512, eps=1e-05, momentum=0.1, affine=True, track_running_stats=True)\n",
       "  (28): Dropout(p=0.25, inplace=False)\n",
       "  (29): Linear(in_features=512, out_features=5, bias=True)\n",
       ")], add_time=True, silent=False)"
      ]
     },
     "execution_count": 30,
     "metadata": {},
     "output_type": "execute_result"
    }
   ],
   "source": [
    "learn.load('stage-1')"
   ]
  },
  {
   "cell_type": "code",
   "execution_count": 31,
   "metadata": {},
   "outputs": [
    {
     "data": {
      "text/html": [
       "\n",
       "    <div>\n",
       "        <style>\n",
       "            /* Turns off some styling */\n",
       "            progress {\n",
       "                /* gets rid of default border in Firefox and Opera. */\n",
       "                border: none;\n",
       "                /* Needs to be in here for Safari polyfill so background images work as expected. */\n",
       "                background-size: auto;\n",
       "            }\n",
       "            .progress-bar-interrupted, .progress-bar-interrupted::-webkit-progress-bar {\n",
       "                background: #F44336;\n",
       "            }\n",
       "        </style>\n",
       "      <progress value='1' class='' max='3' style='width:300px; height:20px; vertical-align: middle;'></progress>\n",
       "      33.33% [1/3 01:31<03:03]\n",
       "    </div>\n",
       "    \n",
       "<table border=\"1\" class=\"dataframe\">\n",
       "  <thead>\n",
       "    <tr style=\"text-align: left;\">\n",
       "      <th>epoch</th>\n",
       "      <th>train_loss</th>\n",
       "      <th>valid_loss</th>\n",
       "      <th>rmse_age</th>\n",
       "      <th>acc_gender</th>\n",
       "      <th>acc_ethnicity</th>\n",
       "      <th>time</th>\n",
       "    </tr>\n",
       "  </thead>\n",
       "  <tbody>\n",
       "    <tr>\n",
       "      <td>0</td>\n",
       "      <td>0.751117</td>\n",
       "      <td>#na#</td>\n",
       "      <td>01:31</td>\n",
       "    </tr>\n",
       "  </tbody>\n",
       "</table><p>\n",
       "\n",
       "    <div>\n",
       "        <style>\n",
       "            /* Turns off some styling */\n",
       "            progress {\n",
       "                /* gets rid of default border in Firefox and Opera. */\n",
       "                border: none;\n",
       "                /* Needs to be in here for Safari polyfill so background images work as expected. */\n",
       "                background-size: auto;\n",
       "            }\n",
       "            .progress-bar-interrupted, .progress-bar-interrupted::-webkit-progress-bar {\n",
       "                background: #F44336;\n",
       "            }\n",
       "        </style>\n",
       "      <progress value='36' class='' max='47' style='width:300px; height:20px; vertical-align: middle;'></progress>\n",
       "      76.60% [36/47 01:09<00:21 2.2517]\n",
       "    </div>\n",
       "    "
      ],
      "text/plain": [
       "<IPython.core.display.HTML object>"
      ]
     },
     "metadata": {},
     "output_type": "display_data"
    },
    {
     "name": "stdout",
     "output_type": "stream",
     "text": [
      "LR Finder is complete, type {learner_name}.recorder.plot() to see the graph.\n"
     ]
    },
    {
     "data": {
      "image/png": "[encoded data removed]",
      "text/plain": [
       "<Figure size 432x288 with 1 Axes>"
      ]
     },
     "metadata": {
      "needs_background": "light"
     },
     "output_type": "display_data"
    }
   ],
   "source": [
    "learn.unfreeze()\n",
    "learn.lr_find()\n",
    "learn.recorder.plot()"
   ]
  },
  {
   "cell_type": "code",
   "execution_count": 32,
   "metadata": {},
   "outputs": [
    {
     "data": {
      "text/html": [
       "<table border=\"1\" class=\"dataframe\">\n",
       "  <thead>\n",
       "    <tr style=\"text-align: left;\">\n",
       "      <th>epoch</th>\n",
       "      <th>train_loss</th>\n",
       "      <th>valid_loss</th>\n",
       "      <th>rmse_age</th>\n",
       "      <th>acc_gender</th>\n",
       "      <th>acc_ethnicity</th>\n",
       "      <th>time</th>\n",
       "    </tr>\n",
       "  </thead>\n",
       "  <tbody>\n",
       "    <tr>\n",
       "      <td>0</td>\n",
       "      <td>0.720178</td>\n",
       "      <td>0.673043</td>\n",
       "      <td>0.087708</td>\n",
       "      <td>0.900194</td>\n",
       "      <td>0.845894</td>\n",
       "      <td>01:57</td>\n",
       "    </tr>\n",
       "    <tr>\n",
       "      <td>1</td>\n",
       "      <td>0.719008</td>\n",
       "      <td>0.668469</td>\n",
       "      <td>0.087249</td>\n",
       "      <td>0.902035</td>\n",
       "      <td>0.846712</td>\n",
       "      <td>01:55</td>\n",
       "    </tr>\n",
       "    <tr>\n",
       "      <td>2</td>\n",
       "      <td>0.720455</td>\n",
       "      <td>0.663398</td>\n",
       "      <td>0.086061</td>\n",
       "      <td>0.902853</td>\n",
       "      <td>0.846815</td>\n",
       "      <td>01:54</td>\n",
       "    </tr>\n",
       "    <tr>\n",
       "      <td>3</td>\n",
       "      <td>0.716058</td>\n",
       "      <td>0.658480</td>\n",
       "      <td>0.086137</td>\n",
       "      <td>0.904694</td>\n",
       "      <td>0.848655</td>\n",
       "      <td>01:52</td>\n",
       "    </tr>\n",
       "    <tr>\n",
       "      <td>4</td>\n",
       "      <td>0.711191</td>\n",
       "      <td>0.645454</td>\n",
       "      <td>0.085113</td>\n",
       "      <td>0.905410</td>\n",
       "      <td>0.854075</td>\n",
       "      <td>01:53</td>\n",
       "    </tr>\n",
       "    <tr>\n",
       "      <td>5</td>\n",
       "      <td>0.708421</td>\n",
       "      <td>0.634531</td>\n",
       "      <td>0.084425</td>\n",
       "      <td>0.909398</td>\n",
       "      <td>0.855916</td>\n",
       "      <td>01:53</td>\n",
       "    </tr>\n",
       "    <tr>\n",
       "      <td>6</td>\n",
       "      <td>0.701390</td>\n",
       "      <td>0.627505</td>\n",
       "      <td>0.083316</td>\n",
       "      <td>0.911750</td>\n",
       "      <td>0.856632</td>\n",
       "      <td>01:54</td>\n",
       "    </tr>\n",
       "    <tr>\n",
       "      <td>7</td>\n",
       "      <td>0.686738</td>\n",
       "      <td>0.618583</td>\n",
       "      <td>0.082853</td>\n",
       "      <td>0.912466</td>\n",
       "      <td>0.857245</td>\n",
       "      <td>01:52</td>\n",
       "    </tr>\n",
       "    <tr>\n",
       "      <td>8</td>\n",
       "      <td>0.680406</td>\n",
       "      <td>0.584341</td>\n",
       "      <td>0.081003</td>\n",
       "      <td>0.916760</td>\n",
       "      <td>0.866960</td>\n",
       "      <td>01:51</td>\n",
       "    </tr>\n",
       "    <tr>\n",
       "      <td>9</td>\n",
       "      <td>0.668988</td>\n",
       "      <td>0.573070</td>\n",
       "      <td>0.082311</td>\n",
       "      <td>0.916147</td>\n",
       "      <td>0.871868</td>\n",
       "      <td>01:51</td>\n",
       "    </tr>\n",
       "    <tr>\n",
       "      <td>10</td>\n",
       "      <td>0.658030</td>\n",
       "      <td>0.554376</td>\n",
       "      <td>0.079310</td>\n",
       "      <td>0.923816</td>\n",
       "      <td>0.873300</td>\n",
       "      <td>01:51</td>\n",
       "    </tr>\n",
       "    <tr>\n",
       "      <td>11</td>\n",
       "      <td>0.641684</td>\n",
       "      <td>0.530224</td>\n",
       "      <td>0.079481</td>\n",
       "      <td>0.922896</td>\n",
       "      <td>0.880560</td>\n",
       "      <td>01:51</td>\n",
       "    </tr>\n",
       "    <tr>\n",
       "      <td>12</td>\n",
       "      <td>0.630367</td>\n",
       "      <td>0.515660</td>\n",
       "      <td>0.078033</td>\n",
       "      <td>0.925555</td>\n",
       "      <td>0.882606</td>\n",
       "      <td>01:50</td>\n",
       "    </tr>\n",
       "    <tr>\n",
       "      <td>13</td>\n",
       "      <td>0.617613</td>\n",
       "      <td>0.499714</td>\n",
       "      <td>0.076058</td>\n",
       "      <td>0.931281</td>\n",
       "      <td>0.887105</td>\n",
       "      <td>01:52</td>\n",
       "    </tr>\n",
       "    <tr>\n",
       "      <td>14</td>\n",
       "      <td>0.597463</td>\n",
       "      <td>0.483138</td>\n",
       "      <td>0.077146</td>\n",
       "      <td>0.933122</td>\n",
       "      <td>0.891809</td>\n",
       "      <td>01:50</td>\n",
       "    </tr>\n",
       "    <tr>\n",
       "      <td>15</td>\n",
       "      <td>0.584184</td>\n",
       "      <td>0.469307</td>\n",
       "      <td>0.077041</td>\n",
       "      <td>0.934554</td>\n",
       "      <td>0.897331</td>\n",
       "      <td>01:51</td>\n",
       "    </tr>\n",
       "    <tr>\n",
       "      <td>16</td>\n",
       "      <td>0.572956</td>\n",
       "      <td>0.444935</td>\n",
       "      <td>0.076535</td>\n",
       "      <td>0.937212</td>\n",
       "      <td>0.902240</td>\n",
       "      <td>01:54</td>\n",
       "    </tr>\n",
       "    <tr>\n",
       "      <td>17</td>\n",
       "      <td>0.562091</td>\n",
       "      <td>0.433099</td>\n",
       "      <td>0.075621</td>\n",
       "      <td>0.939769</td>\n",
       "      <td>0.905410</td>\n",
       "      <td>01:54</td>\n",
       "    </tr>\n",
       "    <tr>\n",
       "      <td>18</td>\n",
       "      <td>0.548773</td>\n",
       "      <td>0.415454</td>\n",
       "      <td>0.074009</td>\n",
       "      <td>0.941507</td>\n",
       "      <td>0.909807</td>\n",
       "      <td>01:55</td>\n",
       "    </tr>\n",
       "    <tr>\n",
       "      <td>19</td>\n",
       "      <td>0.537191</td>\n",
       "      <td>0.405297</td>\n",
       "      <td>0.074196</td>\n",
       "      <td>0.944984</td>\n",
       "      <td>0.912466</td>\n",
       "      <td>01:54</td>\n",
       "    </tr>\n",
       "    <tr>\n",
       "      <td>20</td>\n",
       "      <td>0.526463</td>\n",
       "      <td>0.387933</td>\n",
       "      <td>0.073700</td>\n",
       "      <td>0.947847</td>\n",
       "      <td>0.914817</td>\n",
       "      <td>01:54</td>\n",
       "    </tr>\n",
       "    <tr>\n",
       "      <td>21</td>\n",
       "      <td>0.516212</td>\n",
       "      <td>0.377162</td>\n",
       "      <td>0.073387</td>\n",
       "      <td>0.948870</td>\n",
       "      <td>0.919726</td>\n",
       "      <td>01:55</td>\n",
       "    </tr>\n",
       "    <tr>\n",
       "      <td>22</td>\n",
       "      <td>0.501297</td>\n",
       "      <td>0.365853</td>\n",
       "      <td>0.072522</td>\n",
       "      <td>0.950813</td>\n",
       "      <td>0.922487</td>\n",
       "      <td>01:54</td>\n",
       "    </tr>\n",
       "    <tr>\n",
       "      <td>23</td>\n",
       "      <td>0.492730</td>\n",
       "      <td>0.358831</td>\n",
       "      <td>0.071740</td>\n",
       "      <td>0.950915</td>\n",
       "      <td>0.924225</td>\n",
       "      <td>01:55</td>\n",
       "    </tr>\n",
       "    <tr>\n",
       "      <td>24</td>\n",
       "      <td>0.491440</td>\n",
       "      <td>0.347926</td>\n",
       "      <td>0.072661</td>\n",
       "      <td>0.953983</td>\n",
       "      <td>0.927600</td>\n",
       "      <td>01:54</td>\n",
       "    </tr>\n",
       "    <tr>\n",
       "      <td>25</td>\n",
       "      <td>0.476443</td>\n",
       "      <td>0.345932</td>\n",
       "      <td>0.071877</td>\n",
       "      <td>0.951733</td>\n",
       "      <td>0.926577</td>\n",
       "      <td>01:54</td>\n",
       "    </tr>\n",
       "    <tr>\n",
       "      <td>26</td>\n",
       "      <td>0.473119</td>\n",
       "      <td>0.333920</td>\n",
       "      <td>0.070620</td>\n",
       "      <td>0.954699</td>\n",
       "      <td>0.930463</td>\n",
       "      <td>01:57</td>\n",
       "    </tr>\n",
       "    <tr>\n",
       "      <td>27</td>\n",
       "      <td>0.466513</td>\n",
       "      <td>0.332077</td>\n",
       "      <td>0.071494</td>\n",
       "      <td>0.955517</td>\n",
       "      <td>0.931793</td>\n",
       "      <td>2:02:35</td>\n",
       "    </tr>\n",
       "    <tr>\n",
       "      <td>28</td>\n",
       "      <td>0.462242</td>\n",
       "      <td>0.324471</td>\n",
       "      <td>0.071177</td>\n",
       "      <td>0.955006</td>\n",
       "      <td>0.933327</td>\n",
       "      <td>01:54</td>\n",
       "    </tr>\n",
       "    <tr>\n",
       "      <td>29</td>\n",
       "      <td>0.461682</td>\n",
       "      <td>0.320846</td>\n",
       "      <td>0.070839</td>\n",
       "      <td>0.955721</td>\n",
       "      <td>0.932815</td>\n",
       "      <td>01:52</td>\n",
       "    </tr>\n",
       "    <tr>\n",
       "      <td>30</td>\n",
       "      <td>0.451844</td>\n",
       "      <td>0.320376</td>\n",
       "      <td>0.070967</td>\n",
       "      <td>0.957460</td>\n",
       "      <td>0.932508</td>\n",
       "      <td>01:53</td>\n",
       "    </tr>\n",
       "    <tr>\n",
       "      <td>31</td>\n",
       "      <td>0.450863</td>\n",
       "      <td>0.317754</td>\n",
       "      <td>0.071391</td>\n",
       "      <td>0.957153</td>\n",
       "      <td>0.933224</td>\n",
       "      <td>01:53</td>\n",
       "    </tr>\n",
       "    <tr>\n",
       "      <td>32</td>\n",
       "      <td>0.453802</td>\n",
       "      <td>0.316867</td>\n",
       "      <td>0.070922</td>\n",
       "      <td>0.957869</td>\n",
       "      <td>0.934860</td>\n",
       "      <td>01:52</td>\n",
       "    </tr>\n",
       "    <tr>\n",
       "      <td>33</td>\n",
       "      <td>0.447577</td>\n",
       "      <td>0.316439</td>\n",
       "      <td>0.070749</td>\n",
       "      <td>0.958073</td>\n",
       "      <td>0.934554</td>\n",
       "      <td>01:52</td>\n",
       "    </tr>\n",
       "    <tr>\n",
       "      <td>34</td>\n",
       "      <td>0.448104</td>\n",
       "      <td>0.316256</td>\n",
       "      <td>0.070878</td>\n",
       "      <td>0.957971</td>\n",
       "      <td>0.934145</td>\n",
       "      <td>01:53</td>\n",
       "    </tr>\n",
       "    <tr>\n",
       "      <td>35</td>\n",
       "      <td>0.449545</td>\n",
       "      <td>0.316631</td>\n",
       "      <td>0.070917</td>\n",
       "      <td>0.958176</td>\n",
       "      <td>0.934963</td>\n",
       "      <td>01:53</td>\n",
       "    </tr>\n",
       "  </tbody>\n",
       "</table>"
      ],
      "text/plain": [
       "<IPython.core.display.HTML object>"
      ]
     },
     "metadata": {},
     "output_type": "display_data"
    },
    {
     "data": {
      "image/png": "[encoded data removed]",
      "text/plain": [
       "<Figure size 432x288 with 1 Axes>"
      ]
     },
     "metadata": {},
     "output_type": "display_data"
    },
    {
     "name": "stdout",
     "output_type": "stream",
     "text": [
      "Better model found at epoch 0 with valid_loss value: 0.6730433702468872.\n",
      "Better model found at epoch 1 with valid_loss value: 0.6684694886207581.\n",
      "Better model found at epoch 2 with valid_loss value: 0.663398265838623.\n",
      "Better model found at epoch 3 with valid_loss value: 0.6584796905517578.\n",
      "Better model found at epoch 4 with valid_loss value: 0.645453929901123.\n",
      "Better model found at epoch 5 with valid_loss value: 0.634530782699585.\n",
      "Better model found at epoch 6 with valid_loss value: 0.6275049448013306.\n",
      "Better model found at epoch 7 with valid_loss value: 0.6185829043388367.\n",
      "Better model found at epoch 8 with valid_loss value: 0.5843412280082703.\n",
      "Better model found at epoch 9 with valid_loss value: 0.5730699300765991.\n",
      "Better model found at epoch 10 with valid_loss value: 0.554376482963562.\n",
      "Better model found at epoch 11 with valid_loss value: 0.5302241444587708.\n",
      "Better model found at epoch 12 with valid_loss value: 0.5156602263450623.\n",
      "Better model found at epoch 13 with valid_loss value: 0.4997142553329468.\n",
      "Better model found at epoch 14 with valid_loss value: 0.48313769698143005.\n",
      "Better model found at epoch 15 with valid_loss value: 0.46930718421936035.\n",
      "Better model found at epoch 16 with valid_loss value: 0.4449347257614136.\n",
      "Better model found at epoch 17 with valid_loss value: 0.4330987334251404.\n",
      "Better model found at epoch 18 with valid_loss value: 0.41545385122299194.\n",
      "Better model found at epoch 19 with valid_loss value: 0.4052969515323639.\n",
      "Better model found at epoch 20 with valid_loss value: 0.3879328668117523.\n",
      "Better model found at epoch 21 with valid_loss value: 0.37716174125671387.\n",
      "Better model found at epoch 22 with valid_loss value: 0.36585304141044617.\n",
      "Better model found at epoch 23 with valid_loss value: 0.3588309586048126.\n",
      "Better model found at epoch 24 with valid_loss value: 0.3479263186454773.\n",
      "Better model found at epoch 25 with valid_loss value: 0.3459315299987793.\n",
      "Better model found at epoch 26 with valid_loss value: 0.3339201807975769.\n",
      "Better model found at epoch 27 with valid_loss value: 0.3320768475532532.\n",
      "Better model found at epoch 28 with valid_loss value: 0.32447099685668945.\n",
      "Better model found at epoch 29 with valid_loss value: 0.32084622979164124.\n",
      "Better model found at epoch 30 with valid_loss value: 0.3203762173652649.\n",
      "Better model found at epoch 31 with valid_loss value: 0.31775394082069397.\n",
      "Better model found at epoch 32 with valid_loss value: 0.3168672025203705.\n",
      "Better model found at epoch 33 with valid_loss value: 0.31643906235694885.\n",
      "Better model found at epoch 34 with valid_loss value: 0.31625568866729736.\n"
     ]
    }
   ],
   "source": [
    "learn.unfreeze()\n",
    "learn.fit_one_cycle(36,max_lr=slice(1e-6,3e-4),\n",
    "                   callbacks=[callbacks.SaveModelCallback(learn, every='improvement', monitor='valid_loss', name='stage-2')])"
   ]
  },
  {
   "cell_type": "code",
   "execution_count": 33,
   "metadata": {},
   "outputs": [],
   "source": [
    "learn = learn.load('stage-2')"
   ]
  },
  {
   "cell_type": "markdown",
   "metadata": {},
   "source": [
    "# 5. Using the model to inference"
   ]
  },
  {
   "cell_type": "code",
   "execution_count": 34,
   "metadata": {},
   "outputs": [],
   "source": [
    "trained_model = learn.model.cpu()\n",
    "torch.save(trained_model.state_dict, 'model_paramas_resnet34_faces')"
   ]
  },
  {
   "cell_type": "code",
   "execution_count": 36,
   "metadata": {},
   "outputs": [],
   "source": [
    "class AgenethPredictor():\n",
    "    def __init__(self, model):\n",
    "        self.model = model\n",
    "        self.tfms = get_transforms()[1]\n",
    "        self.norm = transforms.Normalize([0.485, 0.456, 0.406], [0.229, 0.224, 0.225]) #imagenet stats\n",
    "        self.gender = {0:\"Male\",1:\"Female\"}\n",
    "        self.ethnicity = {0:\"White\",1:\"Black\",2:\"Asian\",3:\"Indian\",4:\"Others\"}\n",
    "\n",
    "    def predict(self,x):\n",
    "        #x is a PIL Image\n",
    "        x = Image(pil2tensor(x, dtype=np.float32).div_(255))\n",
    "        x = x.apply_tfms(self.tfms, size = 64)\n",
    "        x = self.norm(x.data)\n",
    "        preds = self.model(x.unsqueeze(0))\n",
    "        age = int(torch.exp(preds[0]*4.75).item())\n",
    "        gender = self.gender[torch.softmax(preds[1],1).argmax().item()]\n",
    "        ethnicity = self.ethnicity[torch.softmax(preds[2],1).argmax().item()]\n",
    "        return age, gender, ethnicity"
   ]
  },
  {
   "cell_type": "code",
   "execution_count": 37,
   "metadata": {},
   "outputs": [],
   "source": [
    "ageneth_predictor = AgenethPredictor(trained_model)"
   ]
  },
  {
   "cell_type": "code",
   "execution_count": 38,
   "metadata": {},
   "outputs": [
    {
     "data": {
      "image/png": "[encoded data removed]",
      "text/plain": [
       "<PIL.JpegImagePlugin.JpegImageFile image mode=RGB size=200x200 at 0x2CDCB11C490>"
      ]
     },
     "execution_count": 38,
     "metadata": {},
     "output_type": "execute_result"
    }
   ],
   "source": [
    "img  = PIL.Image.open(df_valid.name.iloc[100])\n",
    "img"
   ]
  },
  {
   "cell_type": "code",
   "execution_count": 39,
   "metadata": {},
   "outputs": [
    {
     "data": {
      "text/plain": [
       "'..\\\\data\\\\UTK\\\\utkface_aligned_cropped\\\\crop_part1\\\\10_1_0_20170109203642966.jpg.chip.jpg'"
      ]
     },
     "execution_count": 39,
     "metadata": {},
     "output_type": "execute_result"
    }
   ],
   "source": [
    "df_valid.name.iloc[100]"
   ]
  },
  {
   "cell_type": "code",
   "execution_count": 41,
   "metadata": {},
   "outputs": [
    {
     "data": {
      "text/plain": [
       "(13, 'Female', 'White')"
      ]
     },
     "execution_count": 41,
     "metadata": {},
     "output_type": "execute_result"
    }
   ],
   "source": [
    "ageneth_predictor.predict(img)"
   ]
  },
  {
   "cell_type": "code",
   "execution_count": null,
   "metadata": {},
   "outputs": [],
   "source": []
  }
 ],
 "metadata": {
  "kernelspec": {
   "display_name": "Python 3",
   "language": "python",
   "name": "python3"
  },
  "language_info": {
   "codemirror_mode": {
    "name": "ipython",
    "version": 3
   },
   "file_extension": ".py",
   "mimetype": "text/x-python",
   "name": "python",
   "nbconvert_exporter": "python",
   "pygments_lexer": "ipython3",
   "version": "3.8.2"
  }
 },
 "nbformat": 4,
 "nbformat_minor": 4
}
